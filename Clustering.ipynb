{
 "cells": [
  {
   "cell_type": "code",
   "execution_count": 1,
   "metadata": {
    "collapsed": true
   },
   "outputs": [],
   "source": [
    "%matplotlib inline\n",
    "\n",
    "import pandas as pd\n",
    "import numpy as np\n",
    "import matplotlib.pyplot as plt\n",
    "import networkx as nx\n",
    "import math\n",
    "import seaborn as sns\n"
   ]
  },
  {
   "cell_type": "code",
   "execution_count": 2,
   "metadata": {
    "collapsed": true
   },
   "outputs": [],
   "source": [
    "#data_url = \"https://panamadata.blob.core.windows.net/icij/\"\n",
    "data_url = \"../offshore_leaks_csvs-20170104/\""
   ]
  },
  {
   "cell_type": "markdown",
   "metadata": {},
   "source": [
    "## Look into Addresses table"
   ]
  },
  {
   "cell_type": "code",
   "execution_count": 3,
   "metadata": {},
   "outputs": [
    {
     "data": {
      "text/html": [
       "<div>\n",
       "<style>\n",
       "    .dataframe thead tr:only-child th {\n",
       "        text-align: right;\n",
       "    }\n",
       "\n",
       "    .dataframe thead th {\n",
       "        text-align: left;\n",
       "    }\n",
       "\n",
       "    .dataframe tbody tr th {\n",
       "        vertical-align: top;\n",
       "    }\n",
       "</style>\n",
       "<table border=\"1\" class=\"dataframe\">\n",
       "  <thead>\n",
       "    <tr style=\"text-align: right;\">\n",
       "      <th></th>\n",
       "      <th>address</th>\n",
       "      <th>icij_id</th>\n",
       "      <th>valid_until</th>\n",
       "      <th>country_codes</th>\n",
       "      <th>countries</th>\n",
       "      <th>sourceID</th>\n",
       "      <th>note</th>\n",
       "    </tr>\n",
       "    <tr>\n",
       "      <th>node_id</th>\n",
       "      <th></th>\n",
       "      <th></th>\n",
       "      <th></th>\n",
       "      <th></th>\n",
       "      <th></th>\n",
       "      <th></th>\n",
       "      <th></th>\n",
       "    </tr>\n",
       "  </thead>\n",
       "  <tbody>\n",
       "    <tr>\n",
       "      <th>14000001</th>\n",
       "      <td>-\\t27 ROSEWOOD DRIVE #16-19 SINGAPORE 737920</td>\n",
       "      <td>6991059DFFB057DF310B9BF31CC4A0E6</td>\n",
       "      <td>The Panama Papers  data is current through 2015</td>\n",
       "      <td>SGP</td>\n",
       "      <td>Singapore</td>\n",
       "      <td>Panama Papers</td>\n",
       "      <td>NaN</td>\n",
       "    </tr>\n",
       "    <tr>\n",
       "      <th>14000002</th>\n",
       "      <td>\"Almaly Village\" v.5, Almaty Kazakhstan</td>\n",
       "      <td>C65A269424AA1A8BBAC416FA30150938</td>\n",
       "      <td>The Panama Papers  data is current through 2015</td>\n",
       "      <td>KAZ</td>\n",
       "      <td>Kazakhstan</td>\n",
       "      <td>Panama Papers</td>\n",
       "      <td>NaN</td>\n",
       "    </tr>\n",
       "    <tr>\n",
       "      <th>14000003</th>\n",
       "      <td>\"Cantonia\" South Road St Georges Hill Weybridg...</td>\n",
       "      <td>240EE44DFB70AF775E6CD02AF8CB889B</td>\n",
       "      <td>The Panama Papers  data is current through 2015</td>\n",
       "      <td>GBR</td>\n",
       "      <td>United Kingdom</td>\n",
       "      <td>Panama Papers</td>\n",
       "      <td>NaN</td>\n",
       "    </tr>\n",
       "    <tr>\n",
       "      <th>14000004</th>\n",
       "      <td>\"CAY-OS\" NEW ROAD; ST.SAMPSON; GUERNSEY; CHANN...</td>\n",
       "      <td>340C6D3D2FC60AE58C53BB3618129C43</td>\n",
       "      <td>The Panama Papers  data is current through 2015</td>\n",
       "      <td>GGY</td>\n",
       "      <td>Guernsey</td>\n",
       "      <td>Panama Papers</td>\n",
       "      <td>NaN</td>\n",
       "    </tr>\n",
       "    <tr>\n",
       "      <th>14000005</th>\n",
       "      <td>\"Chirag\" Plot No 652; Mwamba Road; Kizingo; Mo...</td>\n",
       "      <td>6DBCD74F5AAB63EABC166885CE8CD7CD</td>\n",
       "      <td>The Panama Papers  data is current through 2015</td>\n",
       "      <td>KEN</td>\n",
       "      <td>Kenya</td>\n",
       "      <td>Panama Papers</td>\n",
       "      <td>NaN</td>\n",
       "    </tr>\n",
       "  </tbody>\n",
       "</table>\n",
       "</div>"
      ],
      "text/plain": [
       "                                                    address  \\\n",
       "node_id                                                       \n",
       "14000001       -\\t27 ROSEWOOD DRIVE #16-19 SINGAPORE 737920   \n",
       "14000002            \"Almaly Village\" v.5, Almaty Kazakhstan   \n",
       "14000003  \"Cantonia\" South Road St Georges Hill Weybridg...   \n",
       "14000004  \"CAY-OS\" NEW ROAD; ST.SAMPSON; GUERNSEY; CHANN...   \n",
       "14000005  \"Chirag\" Plot No 652; Mwamba Road; Kizingo; Mo...   \n",
       "\n",
       "                                   icij_id  \\\n",
       "node_id                                      \n",
       "14000001  6991059DFFB057DF310B9BF31CC4A0E6   \n",
       "14000002  C65A269424AA1A8BBAC416FA30150938   \n",
       "14000003  240EE44DFB70AF775E6CD02AF8CB889B   \n",
       "14000004  340C6D3D2FC60AE58C53BB3618129C43   \n",
       "14000005  6DBCD74F5AAB63EABC166885CE8CD7CD   \n",
       "\n",
       "                                              valid_until country_codes  \\\n",
       "node_id                                                                   \n",
       "14000001  The Panama Papers  data is current through 2015           SGP   \n",
       "14000002  The Panama Papers  data is current through 2015           KAZ   \n",
       "14000003  The Panama Papers  data is current through 2015           GBR   \n",
       "14000004  The Panama Papers  data is current through 2015           GGY   \n",
       "14000005  The Panama Papers  data is current through 2015           KEN   \n",
       "\n",
       "               countries       sourceID note  \n",
       "node_id                                       \n",
       "14000001       Singapore  Panama Papers  NaN  \n",
       "14000002      Kazakhstan  Panama Papers  NaN  \n",
       "14000003  United Kingdom  Panama Papers  NaN  \n",
       "14000004        Guernsey  Panama Papers  NaN  \n",
       "14000005           Kenya  Panama Papers  NaN  "
      ]
     },
     "execution_count": 3,
     "metadata": {},
     "output_type": "execute_result"
    }
   ],
   "source": [
    "addresses = pd.read_csv(data_url + \"Addresses.csv\", dtype={'note':str})\n",
    "addresses.set_index(['node_id'], inplace=True)\n",
    "addresses.head()"
   ]
  },
  {
   "cell_type": "code",
   "execution_count": 4,
   "metadata": {},
   "outputs": [
    {
     "name": "stdout",
     "output_type": "stream",
     "text": [
      "<class 'pandas.core.frame.DataFrame'>\n",
      "Int64Index: 151605 entries, 14000001 to 28000023\n",
      "Data columns (total 7 columns):\n",
      "address          151604 non-null object\n",
      "icij_id          93982 non-null object\n",
      "valid_until      151605 non-null object\n",
      "country_codes    150714 non-null object\n",
      "countries        150714 non-null object\n",
      "sourceID         151605 non-null object\n",
      "note             23 non-null object\n",
      "dtypes: object(7)\n",
      "memory usage: 9.3+ MB\n"
     ]
    }
   ],
   "source": [
    "addresses.info()"
   ]
  },
  {
   "cell_type": "markdown",
   "metadata": {},
   "source": [
    "#### How may sources are there?"
   ]
  },
  {
   "cell_type": "code",
   "execution_count": 5,
   "metadata": {},
   "outputs": [
    {
     "data": {
      "text/plain": [
       "array(['Panama Papers', 'Offshore Leaks', 'Bahamas Leaks'], dtype=object)"
      ]
     },
     "execution_count": 5,
     "metadata": {},
     "output_type": "execute_result"
    }
   ],
   "source": [
    "addresses['sourceID'].unique()"
   ]
  },
  {
   "cell_type": "markdown",
   "metadata": {},
   "source": [
    "#### No need to have both 'countries and country_codes columns"
   ]
  },
  {
   "cell_type": "code",
   "execution_count": 6,
   "metadata": {
    "collapsed": true
   },
   "outputs": [],
   "source": [
    "addresses = addresses.drop(['countries'], axis=1)"
   ]
  },
  {
   "cell_type": "code",
   "execution_count": 7,
   "metadata": {},
   "outputs": [
    {
     "data": {
      "text/plain": [
       "array([nan, 'Record manually added from leaked documents'], dtype=object)"
      ]
     },
     "execution_count": 7,
     "metadata": {},
     "output_type": "execute_result"
    }
   ],
   "source": [
    "addresses['note'].unique()"
   ]
  },
  {
   "cell_type": "markdown",
   "metadata": {},
   "source": [
    "#### Convert 'note' field into a binary field indicating whether it's manual entry"
   ]
  },
  {
   "cell_type": "code",
   "execution_count": 8,
   "metadata": {},
   "outputs": [
    {
     "data": {
      "text/html": [
       "<div>\n",
       "<style>\n",
       "    .dataframe thead tr:only-child th {\n",
       "        text-align: right;\n",
       "    }\n",
       "\n",
       "    .dataframe thead th {\n",
       "        text-align: left;\n",
       "    }\n",
       "\n",
       "    .dataframe tbody tr th {\n",
       "        vertical-align: top;\n",
       "    }\n",
       "</style>\n",
       "<table border=\"1\" class=\"dataframe\">\n",
       "  <thead>\n",
       "    <tr style=\"text-align: right;\">\n",
       "      <th></th>\n",
       "      <th>address</th>\n",
       "      <th>icij_id</th>\n",
       "      <th>valid_until</th>\n",
       "      <th>country_codes</th>\n",
       "      <th>sourceID</th>\n",
       "      <th>manual_entry</th>\n",
       "    </tr>\n",
       "    <tr>\n",
       "      <th>node_id</th>\n",
       "      <th></th>\n",
       "      <th></th>\n",
       "      <th></th>\n",
       "      <th></th>\n",
       "      <th></th>\n",
       "      <th></th>\n",
       "    </tr>\n",
       "  </thead>\n",
       "  <tbody>\n",
       "    <tr>\n",
       "      <th>14000001</th>\n",
       "      <td>-\\t27 ROSEWOOD DRIVE #16-19 SINGAPORE 737920</td>\n",
       "      <td>6991059DFFB057DF310B9BF31CC4A0E6</td>\n",
       "      <td>The Panama Papers  data is current through 2015</td>\n",
       "      <td>SGP</td>\n",
       "      <td>Panama Papers</td>\n",
       "      <td>0</td>\n",
       "    </tr>\n",
       "    <tr>\n",
       "      <th>14000002</th>\n",
       "      <td>\"Almaly Village\" v.5, Almaty Kazakhstan</td>\n",
       "      <td>C65A269424AA1A8BBAC416FA30150938</td>\n",
       "      <td>The Panama Papers  data is current through 2015</td>\n",
       "      <td>KAZ</td>\n",
       "      <td>Panama Papers</td>\n",
       "      <td>0</td>\n",
       "    </tr>\n",
       "    <tr>\n",
       "      <th>14000003</th>\n",
       "      <td>\"Cantonia\" South Road St Georges Hill Weybridg...</td>\n",
       "      <td>240EE44DFB70AF775E6CD02AF8CB889B</td>\n",
       "      <td>The Panama Papers  data is current through 2015</td>\n",
       "      <td>GBR</td>\n",
       "      <td>Panama Papers</td>\n",
       "      <td>0</td>\n",
       "    </tr>\n",
       "    <tr>\n",
       "      <th>14000004</th>\n",
       "      <td>\"CAY-OS\" NEW ROAD; ST.SAMPSON; GUERNSEY; CHANN...</td>\n",
       "      <td>340C6D3D2FC60AE58C53BB3618129C43</td>\n",
       "      <td>The Panama Papers  data is current through 2015</td>\n",
       "      <td>GGY</td>\n",
       "      <td>Panama Papers</td>\n",
       "      <td>0</td>\n",
       "    </tr>\n",
       "    <tr>\n",
       "      <th>14000005</th>\n",
       "      <td>\"Chirag\" Plot No 652; Mwamba Road; Kizingo; Mo...</td>\n",
       "      <td>6DBCD74F5AAB63EABC166885CE8CD7CD</td>\n",
       "      <td>The Panama Papers  data is current through 2015</td>\n",
       "      <td>KEN</td>\n",
       "      <td>Panama Papers</td>\n",
       "      <td>0</td>\n",
       "    </tr>\n",
       "  </tbody>\n",
       "</table>\n",
       "</div>"
      ],
      "text/plain": [
       "                                                    address  \\\n",
       "node_id                                                       \n",
       "14000001       -\\t27 ROSEWOOD DRIVE #16-19 SINGAPORE 737920   \n",
       "14000002            \"Almaly Village\" v.5, Almaty Kazakhstan   \n",
       "14000003  \"Cantonia\" South Road St Georges Hill Weybridg...   \n",
       "14000004  \"CAY-OS\" NEW ROAD; ST.SAMPSON; GUERNSEY; CHANN...   \n",
       "14000005  \"Chirag\" Plot No 652; Mwamba Road; Kizingo; Mo...   \n",
       "\n",
       "                                   icij_id  \\\n",
       "node_id                                      \n",
       "14000001  6991059DFFB057DF310B9BF31CC4A0E6   \n",
       "14000002  C65A269424AA1A8BBAC416FA30150938   \n",
       "14000003  240EE44DFB70AF775E6CD02AF8CB889B   \n",
       "14000004  340C6D3D2FC60AE58C53BB3618129C43   \n",
       "14000005  6DBCD74F5AAB63EABC166885CE8CD7CD   \n",
       "\n",
       "                                              valid_until country_codes  \\\n",
       "node_id                                                                   \n",
       "14000001  The Panama Papers  data is current through 2015           SGP   \n",
       "14000002  The Panama Papers  data is current through 2015           KAZ   \n",
       "14000003  The Panama Papers  data is current through 2015           GBR   \n",
       "14000004  The Panama Papers  data is current through 2015           GGY   \n",
       "14000005  The Panama Papers  data is current through 2015           KEN   \n",
       "\n",
       "               sourceID  manual_entry  \n",
       "node_id                                \n",
       "14000001  Panama Papers             0  \n",
       "14000002  Panama Papers             0  \n",
       "14000003  Panama Papers             0  \n",
       "14000004  Panama Papers             0  \n",
       "14000005  Panama Papers             0  "
      ]
     },
     "execution_count": 8,
     "metadata": {},
     "output_type": "execute_result"
    }
   ],
   "source": [
    "addresses['note'] = addresses['note'].fillna(\"\");\n",
    "addresses['manual_entry'] = [0 if note == \"\" else 1 for note in addresses['note'] ]\n",
    "addresses.drop(['note'], axis=1, inplace=True)\n",
    "addresses.head()"
   ]
  },
  {
   "cell_type": "markdown",
   "metadata": {
    "collapsed": true
   },
   "source": [
    "## Now look at the Entities table"
   ]
  },
  {
   "cell_type": "code",
   "execution_count": 9,
   "metadata": {},
   "outputs": [
    {
     "data": {
      "text/html": [
       "<div>\n",
       "<style>\n",
       "    .dataframe thead tr:only-child th {\n",
       "        text-align: right;\n",
       "    }\n",
       "\n",
       "    .dataframe thead th {\n",
       "        text-align: left;\n",
       "    }\n",
       "\n",
       "    .dataframe tbody tr th {\n",
       "        vertical-align: top;\n",
       "    }\n",
       "</style>\n",
       "<table border=\"1\" class=\"dataframe\">\n",
       "  <thead>\n",
       "    <tr style=\"text-align: right;\">\n",
       "      <th></th>\n",
       "      <th>name</th>\n",
       "      <th>original_name</th>\n",
       "      <th>former_name</th>\n",
       "      <th>jurisdiction</th>\n",
       "      <th>jurisdiction_description</th>\n",
       "      <th>company_type</th>\n",
       "      <th>address</th>\n",
       "      <th>internal_id</th>\n",
       "      <th>incorporation_date</th>\n",
       "      <th>inactivation_date</th>\n",
       "      <th>...</th>\n",
       "      <th>dorm_date</th>\n",
       "      <th>status</th>\n",
       "      <th>service_provider</th>\n",
       "      <th>ibcRUC</th>\n",
       "      <th>country_codes</th>\n",
       "      <th>countries</th>\n",
       "      <th>note</th>\n",
       "      <th>valid_until</th>\n",
       "      <th>node_id</th>\n",
       "      <th>sourceID</th>\n",
       "    </tr>\n",
       "  </thead>\n",
       "  <tbody>\n",
       "    <tr>\n",
       "      <th>0</th>\n",
       "      <td>TIANSHENG INDUSTRY AND TRADING CO., LTD.</td>\n",
       "      <td>TIANSHENG INDUSTRY AND TRADING CO., LTD.</td>\n",
       "      <td>NaN</td>\n",
       "      <td>SAM</td>\n",
       "      <td>Samoa</td>\n",
       "      <td>NaN</td>\n",
       "      <td>ORION HOUSE SERVICES (HK) LIMITED ROOM 1401; 1...</td>\n",
       "      <td>1001256.0</td>\n",
       "      <td>23-MAR-2006</td>\n",
       "      <td>18-FEB-2013</td>\n",
       "      <td>...</td>\n",
       "      <td>NaN</td>\n",
       "      <td>Defaulted</td>\n",
       "      <td>Mossack Fonseca</td>\n",
       "      <td>25221</td>\n",
       "      <td>HKG</td>\n",
       "      <td>Hong Kong</td>\n",
       "      <td>NaN</td>\n",
       "      <td>The Panama Papers data is current through 2015</td>\n",
       "      <td>10000001</td>\n",
       "      <td>Panama Papers</td>\n",
       "    </tr>\n",
       "    <tr>\n",
       "      <th>1</th>\n",
       "      <td>NINGBO SUNRISE ENTERPRISES UNITED CO., LTD.</td>\n",
       "      <td>NINGBO SUNRISE ENTERPRISES UNITED CO., LTD.</td>\n",
       "      <td>NaN</td>\n",
       "      <td>SAM</td>\n",
       "      <td>Samoa</td>\n",
       "      <td>NaN</td>\n",
       "      <td>ORION HOUSE SERVICES (HK) LIMITED ROOM 1401; 1...</td>\n",
       "      <td>1001263.0</td>\n",
       "      <td>27-MAR-2006</td>\n",
       "      <td>27-FEB-2014</td>\n",
       "      <td>...</td>\n",
       "      <td>NaN</td>\n",
       "      <td>Defaulted</td>\n",
       "      <td>Mossack Fonseca</td>\n",
       "      <td>25249</td>\n",
       "      <td>HKG</td>\n",
       "      <td>Hong Kong</td>\n",
       "      <td>NaN</td>\n",
       "      <td>The Panama Papers data is current through 2015</td>\n",
       "      <td>10000002</td>\n",
       "      <td>Panama Papers</td>\n",
       "    </tr>\n",
       "    <tr>\n",
       "      <th>2</th>\n",
       "      <td>HOTFOCUS CO., LTD.</td>\n",
       "      <td>HOTFOCUS CO., LTD.</td>\n",
       "      <td>NaN</td>\n",
       "      <td>SAM</td>\n",
       "      <td>Samoa</td>\n",
       "      <td>NaN</td>\n",
       "      <td>ORION HOUSE SERVICES (HK) LIMITED ROOM 1401; 1...</td>\n",
       "      <td>1000896.0</td>\n",
       "      <td>10-JAN-2006</td>\n",
       "      <td>15-FEB-2012</td>\n",
       "      <td>...</td>\n",
       "      <td>NaN</td>\n",
       "      <td>Defaulted</td>\n",
       "      <td>Mossack Fonseca</td>\n",
       "      <td>24138</td>\n",
       "      <td>HKG</td>\n",
       "      <td>Hong Kong</td>\n",
       "      <td>NaN</td>\n",
       "      <td>The Panama Papers data is current through 2015</td>\n",
       "      <td>10000003</td>\n",
       "      <td>Panama Papers</td>\n",
       "    </tr>\n",
       "    <tr>\n",
       "      <th>3</th>\n",
       "      <td>SKY-BLUE GIFTS &amp; TOYS CO., LTD.</td>\n",
       "      <td>SKY-BLUE GIFTS &amp; TOYS CO., LTD.</td>\n",
       "      <td>NaN</td>\n",
       "      <td>SAM</td>\n",
       "      <td>Samoa</td>\n",
       "      <td>NaN</td>\n",
       "      <td>ORION HOUSE SERVICES (HK) LIMITED ROOM 1401; 1...</td>\n",
       "      <td>1000914.0</td>\n",
       "      <td>06-JAN-2006</td>\n",
       "      <td>16-FEB-2009</td>\n",
       "      <td>...</td>\n",
       "      <td>NaN</td>\n",
       "      <td>Defaulted</td>\n",
       "      <td>Mossack Fonseca</td>\n",
       "      <td>24012</td>\n",
       "      <td>HKG</td>\n",
       "      <td>Hong Kong</td>\n",
       "      <td>NaN</td>\n",
       "      <td>The Panama Papers data is current through 2015</td>\n",
       "      <td>10000004</td>\n",
       "      <td>Panama Papers</td>\n",
       "    </tr>\n",
       "    <tr>\n",
       "      <th>4</th>\n",
       "      <td>FORTUNEMAKER INVESTMENTS CORPORATION</td>\n",
       "      <td>FORTUNEMAKER INVESTMENTS CORPORATION</td>\n",
       "      <td>NaN</td>\n",
       "      <td>SAM</td>\n",
       "      <td>Samoa</td>\n",
       "      <td>NaN</td>\n",
       "      <td>LOYAL PORT LIMITED 8/F; CRAWFORD TOWER 99 JERV...</td>\n",
       "      <td>1001266.0</td>\n",
       "      <td>19-APR-2006</td>\n",
       "      <td>15-MAY-2009</td>\n",
       "      <td>...</td>\n",
       "      <td>NaN</td>\n",
       "      <td>Changed agent</td>\n",
       "      <td>Mossack Fonseca</td>\n",
       "      <td>R25638</td>\n",
       "      <td>HKG</td>\n",
       "      <td>Hong Kong</td>\n",
       "      <td>NaN</td>\n",
       "      <td>The Panama Papers data is current through 2015</td>\n",
       "      <td>10000005</td>\n",
       "      <td>Panama Papers</td>\n",
       "    </tr>\n",
       "  </tbody>\n",
       "</table>\n",
       "<p>5 rows × 21 columns</p>\n",
       "</div>"
      ],
      "text/plain": [
       "                                          name  \\\n",
       "0     TIANSHENG INDUSTRY AND TRADING CO., LTD.   \n",
       "1  NINGBO SUNRISE ENTERPRISES UNITED CO., LTD.   \n",
       "2                           HOTFOCUS CO., LTD.   \n",
       "3              SKY-BLUE GIFTS & TOYS CO., LTD.   \n",
       "4         FORTUNEMAKER INVESTMENTS CORPORATION   \n",
       "\n",
       "                                 original_name former_name jurisdiction  \\\n",
       "0     TIANSHENG INDUSTRY AND TRADING CO., LTD.         NaN          SAM   \n",
       "1  NINGBO SUNRISE ENTERPRISES UNITED CO., LTD.         NaN          SAM   \n",
       "2                           HOTFOCUS CO., LTD.         NaN          SAM   \n",
       "3              SKY-BLUE GIFTS & TOYS CO., LTD.         NaN          SAM   \n",
       "4         FORTUNEMAKER INVESTMENTS CORPORATION         NaN          SAM   \n",
       "\n",
       "  jurisdiction_description company_type  \\\n",
       "0                    Samoa          NaN   \n",
       "1                    Samoa          NaN   \n",
       "2                    Samoa          NaN   \n",
       "3                    Samoa          NaN   \n",
       "4                    Samoa          NaN   \n",
       "\n",
       "                                             address  internal_id  \\\n",
       "0  ORION HOUSE SERVICES (HK) LIMITED ROOM 1401; 1...    1001256.0   \n",
       "1  ORION HOUSE SERVICES (HK) LIMITED ROOM 1401; 1...    1001263.0   \n",
       "2  ORION HOUSE SERVICES (HK) LIMITED ROOM 1401; 1...    1000896.0   \n",
       "3  ORION HOUSE SERVICES (HK) LIMITED ROOM 1401; 1...    1000914.0   \n",
       "4  LOYAL PORT LIMITED 8/F; CRAWFORD TOWER 99 JERV...    1001266.0   \n",
       "\n",
       "  incorporation_date inactivation_date      ...       dorm_date  \\\n",
       "0        23-MAR-2006       18-FEB-2013      ...             NaN   \n",
       "1        27-MAR-2006       27-FEB-2014      ...             NaN   \n",
       "2        10-JAN-2006       15-FEB-2012      ...             NaN   \n",
       "3        06-JAN-2006       16-FEB-2009      ...             NaN   \n",
       "4        19-APR-2006       15-MAY-2009      ...             NaN   \n",
       "\n",
       "          status service_provider  ibcRUC country_codes  countries note  \\\n",
       "0      Defaulted  Mossack Fonseca   25221           HKG  Hong Kong  NaN   \n",
       "1      Defaulted  Mossack Fonseca   25249           HKG  Hong Kong  NaN   \n",
       "2      Defaulted  Mossack Fonseca   24138           HKG  Hong Kong  NaN   \n",
       "3      Defaulted  Mossack Fonseca   24012           HKG  Hong Kong  NaN   \n",
       "4  Changed agent  Mossack Fonseca  R25638           HKG  Hong Kong  NaN   \n",
       "\n",
       "                                      valid_until   node_id       sourceID  \n",
       "0  The Panama Papers data is current through 2015  10000001  Panama Papers  \n",
       "1  The Panama Papers data is current through 2015  10000002  Panama Papers  \n",
       "2  The Panama Papers data is current through 2015  10000003  Panama Papers  \n",
       "3  The Panama Papers data is current through 2015  10000004  Panama Papers  \n",
       "4  The Panama Papers data is current through 2015  10000005  Panama Papers  \n",
       "\n",
       "[5 rows x 21 columns]"
      ]
     },
     "execution_count": 9,
     "metadata": {},
     "output_type": "execute_result"
    }
   ],
   "source": [
    "entities = pd.read_csv(data_url + \"Entities.csv\", low_memory=False)\n",
    "entities.head()"
   ]
  },
  {
   "cell_type": "code",
   "execution_count": 10,
   "metadata": {},
   "outputs": [
    {
     "name": "stdout",
     "output_type": "stream",
     "text": [
      "<class 'pandas.core.frame.DataFrame'>\n",
      "RangeIndex: 495038 entries, 0 to 495037\n",
      "Data columns (total 21 columns):\n",
      "name                        495034 non-null object\n",
      "original_name               389522 non-null object\n",
      "former_name                 6726 non-null object\n",
      "jurisdiction                495038 non-null object\n",
      "jurisdiction_description    495038 non-null object\n",
      "company_type                103227 non-null object\n",
      "address                     299319 non-null object\n",
      "internal_id                 389522 non-null float64\n",
      "incorporation_date          485607 non-null object\n",
      "inactivation_date           144760 non-null object\n",
      "struck_off_date             272240 non-null object\n",
      "dorm_date                   20207 non-null object\n",
      "status                      310106 non-null object\n",
      "service_provider            319150 non-null object\n",
      "ibcRUC                      431263 non-null object\n",
      "country_codes               318360 non-null object\n",
      "countries                   318360 non-null object\n",
      "note                        8994 non-null object\n",
      "valid_until                 495038 non-null object\n",
      "node_id                     495038 non-null int64\n",
      "sourceID                    495038 non-null object\n",
      "dtypes: float64(1), int64(1), object(19)\n",
      "memory usage: 79.3+ MB\n"
     ]
    }
   ],
   "source": [
    "entities.info()"
   ]
  },
  {
   "cell_type": "markdown",
   "metadata": {},
   "source": [
    "### Look at distribution of different features\n",
    "\n",
    "#### As we can see, most of the features in this dataset are categorical. Let's pick features what we think can be relevant in clustering entities. Use 'incorporation date' and ignore other dates. We can come back to them later. Also we can add two more features indicating the day of the week and month the company is incorporated."
   ]
  },
  {
   "cell_type": "code",
   "execution_count": 11,
   "metadata": {},
   "outputs": [
    {
     "data": {
      "text/plain": [
       "Index(['name', 'original_name', 'former_name', 'jurisdiction',\n",
       "       'jurisdiction_description', 'company_type', 'address', 'internal_id',\n",
       "       'incorporation_date', 'inactivation_date', 'struck_off_date',\n",
       "       'dorm_date', 'status', 'service_provider', 'ibcRUC', 'country_codes',\n",
       "       'countries', 'note', 'valid_until', 'node_id', 'sourceID'],\n",
       "      dtype='object')"
      ]
     },
     "execution_count": 11,
     "metadata": {},
     "output_type": "execute_result"
    }
   ],
   "source": [
    "entities.columns"
   ]
  },
  {
   "cell_type": "markdown",
   "metadata": {},
   "source": [
    "#### Sources of leaks"
   ]
  },
  {
   "cell_type": "code",
   "execution_count": 12,
   "metadata": {},
   "outputs": [
    {
     "data": {
      "text/plain": [
       "<matplotlib.axes._subplots.AxesSubplot at 0x14a38eada20>"
      ]
     },
     "execution_count": 12,
     "metadata": {},
     "output_type": "execute_result"
    },
    {
     "data": {
      "image/png": "[encoded data removed]",
      "text/plain": [
       "<matplotlib.figure.Figure at 0x14a4f14b3c8>"
      ]
     },
     "metadata": {},
     "output_type": "display_data"
    }
   ],
   "source": [
    "sns.countplot(x='sourceID', data=entities, palette=\"Greens_d\")"
   ]
  },
  {
   "cell_type": "markdown",
   "metadata": {},
   "source": [
    "#### Company types"
   ]
  },
  {
   "cell_type": "code",
   "execution_count": 13,
   "metadata": {},
   "outputs": [
    {
     "data": {
      "text/plain": [
       "<matplotlib.axes._subplots.AxesSubplot at 0x14a395b4c88>"
      ]
     },
     "execution_count": 13,
     "metadata": {},
     "output_type": "execute_result"
    },
    {
     "data": {
      "image/png": "[encoded data removed]",
      "text/plain": [
       "<matplotlib.figure.Figure at 0x14a3b180b00>"
      ]
     },
     "metadata": {},
     "output_type": "display_data"
    }
   ],
   "source": [
    "f, ax = plt.subplots(figsize=(15, 10))\n",
    "sns.countplot(y='company_type', data=entities, ax=ax)"
   ]
  },
  {
   "cell_type": "markdown",
   "metadata": {},
   "source": [
    "#### Service provider for offshore accounts"
   ]
  },
  {
   "cell_type": "code",
   "execution_count": 14,
   "metadata": {
    "scrolled": true
   },
   "outputs": [
    {
     "data": {
      "image/png": "[encoded data removed]",
      "text/plain": [
       "<matplotlib.figure.Figure at 0x14a33b13a20>"
      ]
     },
     "metadata": {},
     "output_type": "display_data"
    }
   ],
   "source": [
    "sns.countplot(x='service_provider', data=entities, palette=\"Reds_d\");"
   ]
  },
  {
   "cell_type": "code",
   "execution_count": 15,
   "metadata": {
    "scrolled": false
   },
   "outputs": [
    {
     "data": {
      "image/png": "[encoded data removed]",
      "text/plain": [
       "<matplotlib.figure.Figure at 0x14a3b0092b0>"
      ]
     },
     "metadata": {},
     "output_type": "display_data"
    }
   ],
   "source": [
    "f, ax = plt.subplots(figsize=(15, 10))\n",
    "\n",
    "#rotateTickLabels(ax, 90, 'x')\n",
    "g = sns.countplot(x='status', data=entities)\n",
    "g.set_xticklabels(g.get_xticklabels(), rotation=90);"
   ]
  },
  {
   "cell_type": "code",
   "execution_count": 16,
   "metadata": {},
   "outputs": [
    {
     "name": "stdout",
     "output_type": "stream",
     "text": [
      "['name', 'jurisdiction', 'company_type', 'incorporation_date', 'status', 'service_provider', 'country_codes', 'note', 'valid_until', 'sourceID']\n"
     ]
    }
   ],
   "source": [
    "features = [ 'name','jurisdiction', 'company_type','incorporation_date', 'status', 'service_provider', 'country_codes',\n",
    "       'note', 'valid_until', 'sourceID']\n",
    "print(features)"
   ]
  },
  {
   "cell_type": "markdown",
   "metadata": {},
   "source": [
    "#### Let's create features for incorporation date and incorporation month based on incorporation date."
   ]
  },
  {
   "cell_type": "code",
   "execution_count": 17,
   "metadata": {},
   "outputs": [
    {
     "data": {
      "text/html": [
       "<div>\n",
       "<style>\n",
       "    .dataframe thead tr:only-child th {\n",
       "        text-align: right;\n",
       "    }\n",
       "\n",
       "    .dataframe thead th {\n",
       "        text-align: left;\n",
       "    }\n",
       "\n",
       "    .dataframe tbody tr th {\n",
       "        vertical-align: top;\n",
       "    }\n",
       "</style>\n",
       "<table border=\"1\" class=\"dataframe\">\n",
       "  <thead>\n",
       "    <tr style=\"text-align: right;\">\n",
       "      <th></th>\n",
       "      <th>name</th>\n",
       "      <th>jurisdiction</th>\n",
       "      <th>company_type</th>\n",
       "      <th>incorporation_date</th>\n",
       "      <th>status</th>\n",
       "      <th>service_provider</th>\n",
       "      <th>country_codes</th>\n",
       "      <th>note</th>\n",
       "      <th>valid_until</th>\n",
       "      <th>sourceID</th>\n",
       "      <th>incorporation_month</th>\n",
       "      <th>incorporation_dayofweek</th>\n",
       "    </tr>\n",
       "  </thead>\n",
       "  <tbody>\n",
       "    <tr>\n",
       "      <th>0</th>\n",
       "      <td>TIANSHENG INDUSTRY AND TRADING CO., LTD.</td>\n",
       "      <td>SAM</td>\n",
       "      <td>NaN</td>\n",
       "      <td>2006-03-23</td>\n",
       "      <td>Defaulted</td>\n",
       "      <td>Mossack Fonseca</td>\n",
       "      <td>HKG</td>\n",
       "      <td>NaN</td>\n",
       "      <td>The Panama Papers data is current through 2015</td>\n",
       "      <td>Panama Papers</td>\n",
       "      <td>03</td>\n",
       "      <td>Thursday</td>\n",
       "    </tr>\n",
       "    <tr>\n",
       "      <th>1</th>\n",
       "      <td>NINGBO SUNRISE ENTERPRISES UNITED CO., LTD.</td>\n",
       "      <td>SAM</td>\n",
       "      <td>NaN</td>\n",
       "      <td>2006-03-27</td>\n",
       "      <td>Defaulted</td>\n",
       "      <td>Mossack Fonseca</td>\n",
       "      <td>HKG</td>\n",
       "      <td>NaN</td>\n",
       "      <td>The Panama Papers data is current through 2015</td>\n",
       "      <td>Panama Papers</td>\n",
       "      <td>03</td>\n",
       "      <td>Monday</td>\n",
       "    </tr>\n",
       "    <tr>\n",
       "      <th>2</th>\n",
       "      <td>HOTFOCUS CO., LTD.</td>\n",
       "      <td>SAM</td>\n",
       "      <td>NaN</td>\n",
       "      <td>2006-01-10</td>\n",
       "      <td>Defaulted</td>\n",
       "      <td>Mossack Fonseca</td>\n",
       "      <td>HKG</td>\n",
       "      <td>NaN</td>\n",
       "      <td>The Panama Papers data is current through 2015</td>\n",
       "      <td>Panama Papers</td>\n",
       "      <td>01</td>\n",
       "      <td>Tuesday</td>\n",
       "    </tr>\n",
       "    <tr>\n",
       "      <th>3</th>\n",
       "      <td>SKY-BLUE GIFTS &amp; TOYS CO., LTD.</td>\n",
       "      <td>SAM</td>\n",
       "      <td>NaN</td>\n",
       "      <td>2006-01-06</td>\n",
       "      <td>Defaulted</td>\n",
       "      <td>Mossack Fonseca</td>\n",
       "      <td>HKG</td>\n",
       "      <td>NaN</td>\n",
       "      <td>The Panama Papers data is current through 2015</td>\n",
       "      <td>Panama Papers</td>\n",
       "      <td>01</td>\n",
       "      <td>Friday</td>\n",
       "    </tr>\n",
       "    <tr>\n",
       "      <th>4</th>\n",
       "      <td>FORTUNEMAKER INVESTMENTS CORPORATION</td>\n",
       "      <td>SAM</td>\n",
       "      <td>NaN</td>\n",
       "      <td>2006-04-19</td>\n",
       "      <td>Changed agent</td>\n",
       "      <td>Mossack Fonseca</td>\n",
       "      <td>HKG</td>\n",
       "      <td>NaN</td>\n",
       "      <td>The Panama Papers data is current through 2015</td>\n",
       "      <td>Panama Papers</td>\n",
       "      <td>04</td>\n",
       "      <td>Wednesday</td>\n",
       "    </tr>\n",
       "  </tbody>\n",
       "</table>\n",
       "</div>"
      ],
      "text/plain": [
       "                                          name jurisdiction company_type  \\\n",
       "0     TIANSHENG INDUSTRY AND TRADING CO., LTD.          SAM          NaN   \n",
       "1  NINGBO SUNRISE ENTERPRISES UNITED CO., LTD.          SAM          NaN   \n",
       "2                           HOTFOCUS CO., LTD.          SAM          NaN   \n",
       "3              SKY-BLUE GIFTS & TOYS CO., LTD.          SAM          NaN   \n",
       "4         FORTUNEMAKER INVESTMENTS CORPORATION          SAM          NaN   \n",
       "\n",
       "  incorporation_date         status service_provider country_codes note  \\\n",
       "0         2006-03-23      Defaulted  Mossack Fonseca           HKG  NaN   \n",
       "1         2006-03-27      Defaulted  Mossack Fonseca           HKG  NaN   \n",
       "2         2006-01-10      Defaulted  Mossack Fonseca           HKG  NaN   \n",
       "3         2006-01-06      Defaulted  Mossack Fonseca           HKG  NaN   \n",
       "4         2006-04-19  Changed agent  Mossack Fonseca           HKG  NaN   \n",
       "\n",
       "                                      valid_until       sourceID  \\\n",
       "0  The Panama Papers data is current through 2015  Panama Papers   \n",
       "1  The Panama Papers data is current through 2015  Panama Papers   \n",
       "2  The Panama Papers data is current through 2015  Panama Papers   \n",
       "3  The Panama Papers data is current through 2015  Panama Papers   \n",
       "4  The Panama Papers data is current through 2015  Panama Papers   \n",
       "\n",
       "  incorporation_month incorporation_dayofweek  \n",
       "0                  03                Thursday  \n",
       "1                  03                  Monday  \n",
       "2                  01                 Tuesday  \n",
       "3                  01                  Friday  \n",
       "4                  04               Wednesday  "
      ]
     },
     "execution_count": 17,
     "metadata": {},
     "output_type": "execute_result"
    }
   ],
   "source": [
    "entities = entities[features]\n",
    "\n",
    "entities['incorporation_date'] = pd.to_datetime(entities['incorporation_date'])\n",
    "entities['incorporation_month'] = entities['incorporation_date'].dt.strftime('%m')\n",
    "entities['incorporation_dayofweek'] = entities['incorporation_date'].dt.weekday_name\n",
    "\n",
    "#remove instances where name or incorporation date is not available.\n",
    "entities.dropna(axis=0, subset=['name', 'incorporation_date'], inplace=True)\n",
    "entities.head()"
   ]
  },
  {
   "cell_type": "code",
   "execution_count": 18,
   "metadata": {},
   "outputs": [
    {
     "data": {
      "text/html": [
       "<div>\n",
       "<style>\n",
       "    .dataframe thead tr:only-child th {\n",
       "        text-align: right;\n",
       "    }\n",
       "\n",
       "    .dataframe thead th {\n",
       "        text-align: left;\n",
       "    }\n",
       "\n",
       "    .dataframe tbody tr th {\n",
       "        vertical-align: top;\n",
       "    }\n",
       "</style>\n",
       "<table border=\"1\" class=\"dataframe\">\n",
       "  <thead>\n",
       "    <tr style=\"text-align: right;\">\n",
       "      <th></th>\n",
       "      <th>jurisdiction</th>\n",
       "      <th>company_type</th>\n",
       "      <th>status</th>\n",
       "      <th>service_provider</th>\n",
       "      <th>country_codes</th>\n",
       "      <th>note</th>\n",
       "      <th>valid_until</th>\n",
       "      <th>sourceID</th>\n",
       "      <th>incorporation_month</th>\n",
       "      <th>incorporation_dayofweek</th>\n",
       "    </tr>\n",
       "  </thead>\n",
       "  <tbody>\n",
       "    <tr>\n",
       "      <th>0</th>\n",
       "      <td>SAM</td>\n",
       "      <td>NaN</td>\n",
       "      <td>Defaulted</td>\n",
       "      <td>Mossack Fonseca</td>\n",
       "      <td>HKG</td>\n",
       "      <td>NaN</td>\n",
       "      <td>The Panama Papers data is current through 2015</td>\n",
       "      <td>Panama Papers</td>\n",
       "      <td>03</td>\n",
       "      <td>Thursday</td>\n",
       "    </tr>\n",
       "    <tr>\n",
       "      <th>1</th>\n",
       "      <td>SAM</td>\n",
       "      <td>NaN</td>\n",
       "      <td>Defaulted</td>\n",
       "      <td>Mossack Fonseca</td>\n",
       "      <td>HKG</td>\n",
       "      <td>NaN</td>\n",
       "      <td>The Panama Papers data is current through 2015</td>\n",
       "      <td>Panama Papers</td>\n",
       "      <td>03</td>\n",
       "      <td>Monday</td>\n",
       "    </tr>\n",
       "    <tr>\n",
       "      <th>2</th>\n",
       "      <td>SAM</td>\n",
       "      <td>NaN</td>\n",
       "      <td>Defaulted</td>\n",
       "      <td>Mossack Fonseca</td>\n",
       "      <td>HKG</td>\n",
       "      <td>NaN</td>\n",
       "      <td>The Panama Papers data is current through 2015</td>\n",
       "      <td>Panama Papers</td>\n",
       "      <td>01</td>\n",
       "      <td>Tuesday</td>\n",
       "    </tr>\n",
       "    <tr>\n",
       "      <th>3</th>\n",
       "      <td>SAM</td>\n",
       "      <td>NaN</td>\n",
       "      <td>Defaulted</td>\n",
       "      <td>Mossack Fonseca</td>\n",
       "      <td>HKG</td>\n",
       "      <td>NaN</td>\n",
       "      <td>The Panama Papers data is current through 2015</td>\n",
       "      <td>Panama Papers</td>\n",
       "      <td>01</td>\n",
       "      <td>Friday</td>\n",
       "    </tr>\n",
       "    <tr>\n",
       "      <th>4</th>\n",
       "      <td>SAM</td>\n",
       "      <td>NaN</td>\n",
       "      <td>Changed agent</td>\n",
       "      <td>Mossack Fonseca</td>\n",
       "      <td>HKG</td>\n",
       "      <td>NaN</td>\n",
       "      <td>The Panama Papers data is current through 2015</td>\n",
       "      <td>Panama Papers</td>\n",
       "      <td>04</td>\n",
       "      <td>Wednesday</td>\n",
       "    </tr>\n",
       "  </tbody>\n",
       "</table>\n",
       "</div>"
      ],
      "text/plain": [
       "  jurisdiction company_type         status service_provider country_codes  \\\n",
       "0          SAM          NaN      Defaulted  Mossack Fonseca           HKG   \n",
       "1          SAM          NaN      Defaulted  Mossack Fonseca           HKG   \n",
       "2          SAM          NaN      Defaulted  Mossack Fonseca           HKG   \n",
       "3          SAM          NaN      Defaulted  Mossack Fonseca           HKG   \n",
       "4          SAM          NaN  Changed agent  Mossack Fonseca           HKG   \n",
       "\n",
       "  note                                     valid_until       sourceID  \\\n",
       "0  NaN  The Panama Papers data is current through 2015  Panama Papers   \n",
       "1  NaN  The Panama Papers data is current through 2015  Panama Papers   \n",
       "2  NaN  The Panama Papers data is current through 2015  Panama Papers   \n",
       "3  NaN  The Panama Papers data is current through 2015  Panama Papers   \n",
       "4  NaN  The Panama Papers data is current through 2015  Panama Papers   \n",
       "\n",
       "  incorporation_month incorporation_dayofweek  \n",
       "0                  03                Thursday  \n",
       "1                  03                  Monday  \n",
       "2                  01                 Tuesday  \n",
       "3                  01                  Friday  \n",
       "4                  04               Wednesday  "
      ]
     },
     "execution_count": 18,
     "metadata": {},
     "output_type": "execute_result"
    }
   ],
   "source": [
    "X = entities.drop(['name', 'incorporation_date'], axis=1)\n",
    "X.head()"
   ]
  },
  {
   "cell_type": "markdown",
   "metadata": {},
   "source": [
    "### Convert these categorical features into numerical features using Label encoding. \n",
    "\n",
    "#### create a preprocessor that applies label encoding to multiple categorical columns in a dataframe. The code for this preprocessor is from http://blog.districtdatalabs.com/building-a-classifier-from-census-data\n"
   ]
  },
  {
   "cell_type": "code",
   "execution_count": 19,
   "metadata": {
    "collapsed": true
   },
   "outputs": [],
   "source": [
    "from sklearn.base import BaseEstimator, TransformerMixin\n",
    "from sklearn.preprocessing import LabelEncoder\n",
    "\n",
    "class EncodeCategorical(BaseEstimator, TransformerMixin):\n",
    "    \"\"\"\n",
    "    Encodes a specified list of columns or all columns if None.\n",
    "    \"\"\"\n",
    "\n",
    "    def __init__(self, columns=None):\n",
    "        self.columns  = columns\n",
    "        self.encoders = None\n",
    "\n",
    "    def fit(self, data, target=None):\n",
    "        \"\"\"\n",
    "        Expects a data frame with named columns to encode.\n",
    "        \"\"\"\n",
    "        # Encode all columns if columns is None\n",
    "        if self.columns is None:\n",
    "            self.columns = data.columns\n",
    "\n",
    "        # Fit a label encoder for each column in the data frame\n",
    "        self.encoders = {\n",
    "            column: LabelEncoder().fit(data[column])\n",
    "            for column in self.columns\n",
    "        }\n",
    "        return self\n",
    "\n",
    "    def transform(self, data):\n",
    "        \"\"\"\n",
    "        Uses the encoders to transform a data frame.\n",
    "        \"\"\"\n",
    "        output = data.copy()\n",
    "        for column, encoder in self.encoders.items():\n",
    "            output[column] = encoder.transform(data[column])\n",
    "\n",
    "        return output\n",
    "    \n",
    "    def inverse_transform(self, data):\n",
    "        \"\"\"\n",
    "        Uses the encoders to transform a data frame.\n",
    "        \"\"\"\n",
    "        output = data.copy()\n",
    "        for column, encoder in self.encoders.items():\n",
    "            output[column] = encoder.inverse_transform(data[column])\n",
    "\n",
    "        return output"
   ]
  },
  {
   "cell_type": "code",
   "execution_count": 20,
   "metadata": {},
   "outputs": [
    {
     "data": {
      "text/html": [
       "<div>\n",
       "<style>\n",
       "    .dataframe thead tr:only-child th {\n",
       "        text-align: right;\n",
       "    }\n",
       "\n",
       "    .dataframe thead th {\n",
       "        text-align: left;\n",
       "    }\n",
       "\n",
       "    .dataframe tbody tr th {\n",
       "        vertical-align: top;\n",
       "    }\n",
       "</style>\n",
       "<table border=\"1\" class=\"dataframe\">\n",
       "  <thead>\n",
       "    <tr style=\"text-align: right;\">\n",
       "      <th></th>\n",
       "      <th>jurisdiction</th>\n",
       "      <th>company_type</th>\n",
       "      <th>status</th>\n",
       "      <th>service_provider</th>\n",
       "      <th>country_codes</th>\n",
       "      <th>note</th>\n",
       "      <th>valid_until</th>\n",
       "      <th>sourceID</th>\n",
       "      <th>incorporation_month</th>\n",
       "      <th>incorporation_dayofweek</th>\n",
       "    </tr>\n",
       "  </thead>\n",
       "  <tbody>\n",
       "    <tr>\n",
       "      <th>0</th>\n",
       "      <td>28</td>\n",
       "      <td>31</td>\n",
       "      <td>7</td>\n",
       "      <td>1</td>\n",
       "      <td>139</td>\n",
       "      <td>4</td>\n",
       "      <td>2</td>\n",
       "      <td>2</td>\n",
       "      <td>2</td>\n",
       "      <td>4</td>\n",
       "    </tr>\n",
       "    <tr>\n",
       "      <th>1</th>\n",
       "      <td>28</td>\n",
       "      <td>31</td>\n",
       "      <td>7</td>\n",
       "      <td>1</td>\n",
       "      <td>139</td>\n",
       "      <td>4</td>\n",
       "      <td>2</td>\n",
       "      <td>2</td>\n",
       "      <td>2</td>\n",
       "      <td>1</td>\n",
       "    </tr>\n",
       "    <tr>\n",
       "      <th>2</th>\n",
       "      <td>28</td>\n",
       "      <td>31</td>\n",
       "      <td>7</td>\n",
       "      <td>1</td>\n",
       "      <td>139</td>\n",
       "      <td>4</td>\n",
       "      <td>2</td>\n",
       "      <td>2</td>\n",
       "      <td>0</td>\n",
       "      <td>5</td>\n",
       "    </tr>\n",
       "    <tr>\n",
       "      <th>3</th>\n",
       "      <td>28</td>\n",
       "      <td>31</td>\n",
       "      <td>7</td>\n",
       "      <td>1</td>\n",
       "      <td>139</td>\n",
       "      <td>4</td>\n",
       "      <td>2</td>\n",
       "      <td>2</td>\n",
       "      <td>0</td>\n",
       "      <td>0</td>\n",
       "    </tr>\n",
       "    <tr>\n",
       "      <th>4</th>\n",
       "      <td>28</td>\n",
       "      <td>31</td>\n",
       "      <td>3</td>\n",
       "      <td>1</td>\n",
       "      <td>139</td>\n",
       "      <td>4</td>\n",
       "      <td>2</td>\n",
       "      <td>2</td>\n",
       "      <td>3</td>\n",
       "      <td>6</td>\n",
       "    </tr>\n",
       "  </tbody>\n",
       "</table>\n",
       "</div>"
      ],
      "text/plain": [
       "   jurisdiction  company_type  status  service_provider  country_codes  note  \\\n",
       "0            28            31       7                 1            139     4   \n",
       "1            28            31       7                 1            139     4   \n",
       "2            28            31       7                 1            139     4   \n",
       "3            28            31       7                 1            139     4   \n",
       "4            28            31       3                 1            139     4   \n",
       "\n",
       "   valid_until  sourceID  incorporation_month  incorporation_dayofweek  \n",
       "0            2         2                    2                        4  \n",
       "1            2         2                    2                        1  \n",
       "2            2         2                    0                        5  \n",
       "3            2         2                    0                        0  \n",
       "4            2         2                    3                        6  "
      ]
     },
     "execution_count": 20,
     "metadata": {},
     "output_type": "execute_result"
    }
   ],
   "source": [
    "X[pd.isnull(X)]  = 'NaN'\n",
    "encoder = EncodeCategorical(X.columns).fit(X)\n",
    "X_encoded = encoder.transform(X)\n",
    "X_encoded.head()"
   ]
  },
  {
   "cell_type": "code",
   "execution_count": 21,
   "metadata": {},
   "outputs": [
    {
     "name": "stdout",
     "output_type": "stream",
     "text": [
      "Shape of the input dataset being used for clustering: (485603, 10)\n",
      "Shape of the original entities before extracting features and one-hot encoding: (485603, 12)\n"
     ]
    }
   ],
   "source": [
    "print(\"Shape of the input dataset being used for clustering: %s\"%str(X_encoded.shape))\n",
    "print(\"Shape of the original entities before extracting features and one-hot encoding: %s\"%str(entities.shape))"
   ]
  },
  {
   "cell_type": "markdown",
   "metadata": {},
   "source": [
    "### Let's apply k_modes clustering and use elbow method to find optimal number of clusters\n",
    "\n",
    "#### Applying K-Means clustering with dataset where all features are categorical doesn't make sense since we can't use eucladian distance to measure means. We can use something like K-Modes clustering which is more suitable for categorical features.\n",
    "\n",
    "#### https://stackoverflow.com/questions/41827660/reveal-k-modes-cluster-features"
   ]
  },
  {
   "cell_type": "code",
   "execution_count": 22,
   "metadata": {},
   "outputs": [
    {
     "name": "stdout",
     "output_type": "stream",
     "text": [
      "2 1813960.0\n",
      "3 1456143.0\n",
      "4 1377015.0\n",
      "5 1336809.0\n",
      "6 1305385.0\n",
      "7 1247976.0\n",
      "8 1235371.0\n",
      "9 1152618.0\n"
     ]
    }
   ],
   "source": [
    "from kmodes import kmodes\n",
    "\n",
    "n_clusters = range(2,10)\n",
    "costs = []\n",
    "\n",
    "for n in n_clusters:\n",
    "    km = kmodes.KModes(n, init='Huang', n_init=5).fit(X_encoded)\n",
    "    costs.append(km.cost_)\n",
    "    print(n, km.cost_)\n"
   ]
  },
  {
   "cell_type": "code",
   "execution_count": 23,
   "metadata": {
    "scrolled": false
   },
   "outputs": [
    {
     "data": {
      "image/png": "[encoded data removed]",
      "text/plain": [
       "<matplotlib.figure.Figure at 0x14a4273a748>"
      ]
     },
     "metadata": {},
     "output_type": "display_data"
    }
   ],
   "source": [
    "plt.plot(n_clusters, costs)\n",
    "plt.xlabel('No of clusters')\n",
    "plt.ylabel('cost')\n",
    "plt.show()"
   ]
  },
  {
   "cell_type": "markdown",
   "metadata": {},
   "source": [
    "#### It seems like k=3 is reasonable value for number of clusters. Let's run this and find our four centroids."
   ]
  },
  {
   "cell_type": "code",
   "execution_count": 28,
   "metadata": {},
   "outputs": [
    {
     "data": {
      "text/plain": [
       "1683212.0"
      ]
     },
     "execution_count": 28,
     "metadata": {},
     "output_type": "execute_result"
    }
   ],
   "source": [
    "km = kmodes.KModes(n_clusters=3, init='Huang', n_init=5)\n",
    "clusters = km.fit_predict(X_encoded)\n",
    "km.cost_"
   ]
  },
  {
   "cell_type": "code",
   "execution_count": 29,
   "metadata": {},
   "outputs": [
    {
     "data": {
      "text/plain": [
       "(array([0, 1, 2], dtype=uint8), array([186700, 186493, 112410], dtype=int64))"
      ]
     },
     "execution_count": 29,
     "metadata": {},
     "output_type": "execute_result"
    }
   ],
   "source": [
    "np.unique(clusters, return_counts=True)"
   ]
  },
  {
   "cell_type": "code",
   "execution_count": 30,
   "metadata": {},
   "outputs": [
    {
     "name": "stdout",
     "output_type": "stream",
     "text": [
      "[[  5  31   7   1  56   4   2   2  10   0]\n",
      " [  1  31  20   2 263   4   0   0   0   1]\n",
      " [  5  31   0   1 366   4   2   2   0   5]]\n"
     ]
    }
   ],
   "source": [
    "print(km.cluster_centroids_)"
   ]
  },
  {
   "cell_type": "code",
   "execution_count": 31,
   "metadata": {},
   "outputs": [
    {
     "data": {
      "text/html": [
       "<div>\n",
       "<style>\n",
       "    .dataframe thead tr:only-child th {\n",
       "        text-align: right;\n",
       "    }\n",
       "\n",
       "    .dataframe thead th {\n",
       "        text-align: left;\n",
       "    }\n",
       "\n",
       "    .dataframe tbody tr th {\n",
       "        vertical-align: top;\n",
       "    }\n",
       "</style>\n",
       "<table border=\"1\" class=\"dataframe\">\n",
       "  <thead>\n",
       "    <tr style=\"text-align: right;\">\n",
       "      <th></th>\n",
       "      <th>jurisdiction</th>\n",
       "      <th>company_type</th>\n",
       "      <th>status</th>\n",
       "      <th>service_provider</th>\n",
       "      <th>country_codes</th>\n",
       "      <th>note</th>\n",
       "      <th>valid_until</th>\n",
       "      <th>sourceID</th>\n",
       "      <th>incorporation_month</th>\n",
       "      <th>incorporation_dayofweek</th>\n",
       "    </tr>\n",
       "  </thead>\n",
       "  <tbody>\n",
       "    <tr>\n",
       "      <th>0</th>\n",
       "      <td>BVI</td>\n",
       "      <td>NaN</td>\n",
       "      <td>Defaulted</td>\n",
       "      <td>Mossack Fonseca</td>\n",
       "      <td>CHE</td>\n",
       "      <td>NaN</td>\n",
       "      <td>The Panama Papers data is current through 2015</td>\n",
       "      <td>Panama Papers</td>\n",
       "      <td>11</td>\n",
       "      <td>Friday</td>\n",
       "    </tr>\n",
       "    <tr>\n",
       "      <th>1</th>\n",
       "      <td>BAH</td>\n",
       "      <td>NaN</td>\n",
       "      <td>NaN</td>\n",
       "      <td>NaN</td>\n",
       "      <td>NaN</td>\n",
       "      <td>NaN</td>\n",
       "      <td>The Bahamas Leaks data is current through earl...</td>\n",
       "      <td>Bahamas Leaks</td>\n",
       "      <td>01</td>\n",
       "      <td>Monday</td>\n",
       "    </tr>\n",
       "    <tr>\n",
       "      <th>2</th>\n",
       "      <td>BVI</td>\n",
       "      <td>NaN</td>\n",
       "      <td>Active</td>\n",
       "      <td>Mossack Fonseca</td>\n",
       "      <td>VGB</td>\n",
       "      <td>NaN</td>\n",
       "      <td>The Panama Papers data is current through 2015</td>\n",
       "      <td>Panama Papers</td>\n",
       "      <td>01</td>\n",
       "      <td>Tuesday</td>\n",
       "    </tr>\n",
       "  </tbody>\n",
       "</table>\n",
       "</div>"
      ],
      "text/plain": [
       "  jurisdiction company_type     status service_provider country_codes note  \\\n",
       "0          BVI          NaN  Defaulted  Mossack Fonseca           CHE  NaN   \n",
       "1          BAH          NaN        NaN              NaN           NaN  NaN   \n",
       "2          BVI          NaN     Active  Mossack Fonseca           VGB  NaN   \n",
       "\n",
       "                                         valid_until       sourceID  \\\n",
       "0     The Panama Papers data is current through 2015  Panama Papers   \n",
       "1  The Bahamas Leaks data is current through earl...  Bahamas Leaks   \n",
       "2     The Panama Papers data is current through 2015  Panama Papers   \n",
       "\n",
       "  incorporation_month incorporation_dayofweek  \n",
       "0                  11                  Friday  \n",
       "1                  01                  Monday  \n",
       "2                  01                 Tuesday  "
      ]
     },
     "execution_count": 31,
     "metadata": {},
     "output_type": "execute_result"
    }
   ],
   "source": [
    "centroids = encoder.inverse_transform(pd.DataFrame(km.cluster_centroids_, columns=X_encoded.columns))\n",
    "centroids.head()"
   ]
  },
  {
   "cell_type": "code",
   "execution_count": null,
   "metadata": {
    "collapsed": true
   },
   "outputs": [],
   "source": []
  }
 ],
 "metadata": {
  "anaconda-cloud": {},
  "kernelspec": {
   "display_name": "Python 3",
   "language": "python",
   "name": "python3"
  },
  "language_info": {
   "codemirror_mode": {
    "name": "ipython",
    "version": 3
   },
   "file_extension": ".py",
   "mimetype": "text/x-python",
   "name": "python",
   "nbconvert_exporter": "python",
   "pygments_lexer": "ipython3",
   "version": "3.6.0"
  }
 },
 "nbformat": 4,
 "nbformat_minor": 2
}
