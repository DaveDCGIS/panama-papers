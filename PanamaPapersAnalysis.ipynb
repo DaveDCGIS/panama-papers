{
 "cells": [
  {
   "cell_type": "code",
   "execution_count": 1,
   "metadata": {
    "collapsed": true
   },
   "outputs": [],
   "source": [
    "%matplotlib inline\n",
    "\n",
    "import pandas as pd\n",
    "import numpy as np\n",
    "import matplotlib.pyplot as plt\n",
    "import networkx as nx\n",
    "import math\n"
   ]
  },
  {
   "cell_type": "code",
   "execution_count": 2,
   "metadata": {
    "collapsed": true
   },
   "outputs": [],
   "source": [
    "#data_url = \"https://panamadata.blob.core.windows.net/icij/\"\n",
    "data_url = \"../offshore_leaks_csvs-20170104/\""
   ]
  },
  {
   "cell_type": "markdown",
   "metadata": {},
   "source": [
    "## Look into Addresses table"
   ]
  },
  {
   "cell_type": "code",
   "execution_count": 3,
   "metadata": {
    "collapsed": false
   },
   "outputs": [
    {
     "data": {
      "text/html": [
       "<div>\n",
       "<table border=\"1\" class=\"dataframe\">\n",
       "  <thead>\n",
       "    <tr style=\"text-align: right;\">\n",
       "      <th></th>\n",
       "      <th>address</th>\n",
       "      <th>icij_id</th>\n",
       "      <th>valid_until</th>\n",
       "      <th>country_codes</th>\n",
       "      <th>countries</th>\n",
       "      <th>sourceID</th>\n",
       "      <th>note</th>\n",
       "    </tr>\n",
       "    <tr>\n",
       "      <th>node_id</th>\n",
       "      <th></th>\n",
       "      <th></th>\n",
       "      <th></th>\n",
       "      <th></th>\n",
       "      <th></th>\n",
       "      <th></th>\n",
       "      <th></th>\n",
       "    </tr>\n",
       "  </thead>\n",
       "  <tbody>\n",
       "    <tr>\n",
       "      <th>14000001</th>\n",
       "      <td>-\\t27 ROSEWOOD DRIVE #16-19 SINGAPORE 737920</td>\n",
       "      <td>6991059DFFB057DF310B9BF31CC4A0E6</td>\n",
       "      <td>The Panama Papers  data is current through 2015</td>\n",
       "      <td>SGP</td>\n",
       "      <td>Singapore</td>\n",
       "      <td>Panama Papers</td>\n",
       "      <td>NaN</td>\n",
       "    </tr>\n",
       "    <tr>\n",
       "      <th>14000002</th>\n",
       "      <td>\"Almaly Village\" v.5, Almaty Kazakhstan</td>\n",
       "      <td>C65A269424AA1A8BBAC416FA30150938</td>\n",
       "      <td>The Panama Papers  data is current through 2015</td>\n",
       "      <td>KAZ</td>\n",
       "      <td>Kazakhstan</td>\n",
       "      <td>Panama Papers</td>\n",
       "      <td>NaN</td>\n",
       "    </tr>\n",
       "    <tr>\n",
       "      <th>14000003</th>\n",
       "      <td>\"Cantonia\" South Road St Georges Hill Weybridg...</td>\n",
       "      <td>240EE44DFB70AF775E6CD02AF8CB889B</td>\n",
       "      <td>The Panama Papers  data is current through 2015</td>\n",
       "      <td>GBR</td>\n",
       "      <td>United Kingdom</td>\n",
       "      <td>Panama Papers</td>\n",
       "      <td>NaN</td>\n",
       "    </tr>\n",
       "    <tr>\n",
       "      <th>14000004</th>\n",
       "      <td>\"CAY-OS\" NEW ROAD; ST.SAMPSON; GUERNSEY; CHANN...</td>\n",
       "      <td>340C6D3D2FC60AE58C53BB3618129C43</td>\n",
       "      <td>The Panama Papers  data is current through 2015</td>\n",
       "      <td>GGY</td>\n",
       "      <td>Guernsey</td>\n",
       "      <td>Panama Papers</td>\n",
       "      <td>NaN</td>\n",
       "    </tr>\n",
       "    <tr>\n",
       "      <th>14000005</th>\n",
       "      <td>\"Chirag\" Plot No 652; Mwamba Road; Kizingo; Mo...</td>\n",
       "      <td>6DBCD74F5AAB63EABC166885CE8CD7CD</td>\n",
       "      <td>The Panama Papers  data is current through 2015</td>\n",
       "      <td>KEN</td>\n",
       "      <td>Kenya</td>\n",
       "      <td>Panama Papers</td>\n",
       "      <td>NaN</td>\n",
       "    </tr>\n",
       "  </tbody>\n",
       "</table>\n",
       "</div>"
      ],
      "text/plain": [
       "                                                    address  \\\n",
       "node_id                                                       \n",
       "14000001       -\\t27 ROSEWOOD DRIVE #16-19 SINGAPORE 737920   \n",
       "14000002            \"Almaly Village\" v.5, Almaty Kazakhstan   \n",
       "14000003  \"Cantonia\" South Road St Georges Hill Weybridg...   \n",
       "14000004  \"CAY-OS\" NEW ROAD; ST.SAMPSON; GUERNSEY; CHANN...   \n",
       "14000005  \"Chirag\" Plot No 652; Mwamba Road; Kizingo; Mo...   \n",
       "\n",
       "                                   icij_id  \\\n",
       "node_id                                      \n",
       "14000001  6991059DFFB057DF310B9BF31CC4A0E6   \n",
       "14000002  C65A269424AA1A8BBAC416FA30150938   \n",
       "14000003  240EE44DFB70AF775E6CD02AF8CB889B   \n",
       "14000004  340C6D3D2FC60AE58C53BB3618129C43   \n",
       "14000005  6DBCD74F5AAB63EABC166885CE8CD7CD   \n",
       "\n",
       "                                              valid_until country_codes  \\\n",
       "node_id                                                                   \n",
       "14000001  The Panama Papers  data is current through 2015           SGP   \n",
       "14000002  The Panama Papers  data is current through 2015           KAZ   \n",
       "14000003  The Panama Papers  data is current through 2015           GBR   \n",
       "14000004  The Panama Papers  data is current through 2015           GGY   \n",
       "14000005  The Panama Papers  data is current through 2015           KEN   \n",
       "\n",
       "               countries       sourceID note  \n",
       "node_id                                       \n",
       "14000001       Singapore  Panama Papers  NaN  \n",
       "14000002      Kazakhstan  Panama Papers  NaN  \n",
       "14000003  United Kingdom  Panama Papers  NaN  \n",
       "14000004        Guernsey  Panama Papers  NaN  \n",
       "14000005           Kenya  Panama Papers  NaN  "
      ]
     },
     "execution_count": 3,
     "metadata": {},
     "output_type": "execute_result"
    }
   ],
   "source": [
    "addresses = pd.read_csv(data_url + \"Addresses.csv\", dtype={'note':str})\n",
    "addresses.set_index(['node_id'], inplace=True)\n",
    "addresses.head()"
   ]
  },
  {
   "cell_type": "code",
   "execution_count": 4,
   "metadata": {
    "collapsed": false
   },
   "outputs": [
    {
     "name": "stdout",
     "output_type": "stream",
     "text": [
      "<class 'pandas.core.frame.DataFrame'>\n",
      "Int64Index: 151605 entries, 14000001 to 28000023\n",
      "Data columns (total 7 columns):\n",
      "address          151604 non-null object\n",
      "icij_id          93982 non-null object\n",
      "valid_until      151605 non-null object\n",
      "country_codes    150714 non-null object\n",
      "countries        150714 non-null object\n",
      "sourceID         151605 non-null object\n",
      "note             23 non-null object\n",
      "dtypes: object(7)\n",
      "memory usage: 9.3+ MB\n"
     ]
    }
   ],
   "source": [
    "addresses.info()"
   ]
  },
  {
   "cell_type": "markdown",
   "metadata": {},
   "source": [
    "#### How may sources are there?"
   ]
  },
  {
   "cell_type": "code",
   "execution_count": 5,
   "metadata": {
    "collapsed": false
   },
   "outputs": [
    {
     "data": {
      "text/plain": [
       "array(['Panama Papers', 'Offshore Leaks', 'Bahamas Leaks'], dtype=object)"
      ]
     },
     "execution_count": 5,
     "metadata": {},
     "output_type": "execute_result"
    }
   ],
   "source": [
    "addresses['sourceID'].unique()"
   ]
  },
  {
   "cell_type": "markdown",
   "metadata": {},
   "source": [
    "#### No need to have both 'countries and country_codes columns"
   ]
  },
  {
   "cell_type": "code",
   "execution_count": 6,
   "metadata": {
    "collapsed": true
   },
   "outputs": [],
   "source": [
    "addresses = addresses.drop(['countries'], axis=1)"
   ]
  },
  {
   "cell_type": "code",
   "execution_count": 7,
   "metadata": {
    "collapsed": false
   },
   "outputs": [
    {
     "data": {
      "text/plain": [
       "array([nan, 'Record manually added from leaked documents'], dtype=object)"
      ]
     },
     "execution_count": 7,
     "metadata": {},
     "output_type": "execute_result"
    }
   ],
   "source": [
    "addresses['note'].unique()"
   ]
  },
  {
   "cell_type": "markdown",
   "metadata": {},
   "source": [
    "#### Convert 'note' field into a binary field indicating whether it's manual entry"
   ]
  },
  {
   "cell_type": "code",
   "execution_count": 8,
   "metadata": {
    "collapsed": false
   },
   "outputs": [
    {
     "data": {
      "text/html": [
       "<div>\n",
       "<table border=\"1\" class=\"dataframe\">\n",
       "  <thead>\n",
       "    <tr style=\"text-align: right;\">\n",
       "      <th></th>\n",
       "      <th>address</th>\n",
       "      <th>icij_id</th>\n",
       "      <th>valid_until</th>\n",
       "      <th>country_codes</th>\n",
       "      <th>sourceID</th>\n",
       "      <th>manual_entry</th>\n",
       "    </tr>\n",
       "    <tr>\n",
       "      <th>node_id</th>\n",
       "      <th></th>\n",
       "      <th></th>\n",
       "      <th></th>\n",
       "      <th></th>\n",
       "      <th></th>\n",
       "      <th></th>\n",
       "    </tr>\n",
       "  </thead>\n",
       "  <tbody>\n",
       "    <tr>\n",
       "      <th>14000001</th>\n",
       "      <td>-\\t27 ROSEWOOD DRIVE #16-19 SINGAPORE 737920</td>\n",
       "      <td>6991059DFFB057DF310B9BF31CC4A0E6</td>\n",
       "      <td>The Panama Papers  data is current through 2015</td>\n",
       "      <td>SGP</td>\n",
       "      <td>Panama Papers</td>\n",
       "      <td>0</td>\n",
       "    </tr>\n",
       "    <tr>\n",
       "      <th>14000002</th>\n",
       "      <td>\"Almaly Village\" v.5, Almaty Kazakhstan</td>\n",
       "      <td>C65A269424AA1A8BBAC416FA30150938</td>\n",
       "      <td>The Panama Papers  data is current through 2015</td>\n",
       "      <td>KAZ</td>\n",
       "      <td>Panama Papers</td>\n",
       "      <td>0</td>\n",
       "    </tr>\n",
       "    <tr>\n",
       "      <th>14000003</th>\n",
       "      <td>\"Cantonia\" South Road St Georges Hill Weybridg...</td>\n",
       "      <td>240EE44DFB70AF775E6CD02AF8CB889B</td>\n",
       "      <td>The Panama Papers  data is current through 2015</td>\n",
       "      <td>GBR</td>\n",
       "      <td>Panama Papers</td>\n",
       "      <td>0</td>\n",
       "    </tr>\n",
       "    <tr>\n",
       "      <th>14000004</th>\n",
       "      <td>\"CAY-OS\" NEW ROAD; ST.SAMPSON; GUERNSEY; CHANN...</td>\n",
       "      <td>340C6D3D2FC60AE58C53BB3618129C43</td>\n",
       "      <td>The Panama Papers  data is current through 2015</td>\n",
       "      <td>GGY</td>\n",
       "      <td>Panama Papers</td>\n",
       "      <td>0</td>\n",
       "    </tr>\n",
       "    <tr>\n",
       "      <th>14000005</th>\n",
       "      <td>\"Chirag\" Plot No 652; Mwamba Road; Kizingo; Mo...</td>\n",
       "      <td>6DBCD74F5AAB63EABC166885CE8CD7CD</td>\n",
       "      <td>The Panama Papers  data is current through 2015</td>\n",
       "      <td>KEN</td>\n",
       "      <td>Panama Papers</td>\n",
       "      <td>0</td>\n",
       "    </tr>\n",
       "  </tbody>\n",
       "</table>\n",
       "</div>"
      ],
      "text/plain": [
       "                                                    address  \\\n",
       "node_id                                                       \n",
       "14000001       -\\t27 ROSEWOOD DRIVE #16-19 SINGAPORE 737920   \n",
       "14000002            \"Almaly Village\" v.5, Almaty Kazakhstan   \n",
       "14000003  \"Cantonia\" South Road St Georges Hill Weybridg...   \n",
       "14000004  \"CAY-OS\" NEW ROAD; ST.SAMPSON; GUERNSEY; CHANN...   \n",
       "14000005  \"Chirag\" Plot No 652; Mwamba Road; Kizingo; Mo...   \n",
       "\n",
       "                                   icij_id  \\\n",
       "node_id                                      \n",
       "14000001  6991059DFFB057DF310B9BF31CC4A0E6   \n",
       "14000002  C65A269424AA1A8BBAC416FA30150938   \n",
       "14000003  240EE44DFB70AF775E6CD02AF8CB889B   \n",
       "14000004  340C6D3D2FC60AE58C53BB3618129C43   \n",
       "14000005  6DBCD74F5AAB63EABC166885CE8CD7CD   \n",
       "\n",
       "                                              valid_until country_codes  \\\n",
       "node_id                                                                   \n",
       "14000001  The Panama Papers  data is current through 2015           SGP   \n",
       "14000002  The Panama Papers  data is current through 2015           KAZ   \n",
       "14000003  The Panama Papers  data is current through 2015           GBR   \n",
       "14000004  The Panama Papers  data is current through 2015           GGY   \n",
       "14000005  The Panama Papers  data is current through 2015           KEN   \n",
       "\n",
       "               sourceID  manual_entry  \n",
       "node_id                                \n",
       "14000001  Panama Papers             0  \n",
       "14000002  Panama Papers             0  \n",
       "14000003  Panama Papers             0  \n",
       "14000004  Panama Papers             0  \n",
       "14000005  Panama Papers             0  "
      ]
     },
     "execution_count": 8,
     "metadata": {},
     "output_type": "execute_result"
    }
   ],
   "source": [
    "addresses['note'] = addresses['note'].fillna(\"\");\n",
    "addresses['manual_entry'] = [0 if note == \"\" else 1 for note in addresses['note'] ]\n",
    "addresses.drop(['note'], axis=1, inplace=True)\n",
    "addresses.head()"
   ]
  },
  {
   "cell_type": "markdown",
   "metadata": {
    "collapsed": true
   },
   "source": [
    "## Now look at the Entities table"
   ]
  },
  {
   "cell_type": "code",
   "execution_count": 9,
   "metadata": {
    "collapsed": false
   },
   "outputs": [
    {
     "data": {
      "text/html": [
       "<div>\n",
       "<table border=\"1\" class=\"dataframe\">\n",
       "  <thead>\n",
       "    <tr style=\"text-align: right;\">\n",
       "      <th></th>\n",
       "      <th>name</th>\n",
       "      <th>original_name</th>\n",
       "      <th>former_name</th>\n",
       "      <th>jurisdiction</th>\n",
       "      <th>jurisdiction_description</th>\n",
       "      <th>company_type</th>\n",
       "      <th>address</th>\n",
       "      <th>internal_id</th>\n",
       "      <th>incorporation_date</th>\n",
       "      <th>inactivation_date</th>\n",
       "      <th>...</th>\n",
       "      <th>dorm_date</th>\n",
       "      <th>status</th>\n",
       "      <th>service_provider</th>\n",
       "      <th>ibcRUC</th>\n",
       "      <th>country_codes</th>\n",
       "      <th>countries</th>\n",
       "      <th>note</th>\n",
       "      <th>valid_until</th>\n",
       "      <th>node_id</th>\n",
       "      <th>sourceID</th>\n",
       "    </tr>\n",
       "  </thead>\n",
       "  <tbody>\n",
       "    <tr>\n",
       "      <th>0</th>\n",
       "      <td>TIANSHENG INDUSTRY AND TRADING CO., LTD.</td>\n",
       "      <td>TIANSHENG INDUSTRY AND TRADING CO., LTD.</td>\n",
       "      <td>NaN</td>\n",
       "      <td>SAM</td>\n",
       "      <td>Samoa</td>\n",
       "      <td>NaN</td>\n",
       "      <td>ORION HOUSE SERVICES (HK) LIMITED ROOM 1401; 1...</td>\n",
       "      <td>1001256.0</td>\n",
       "      <td>23-MAR-2006</td>\n",
       "      <td>18-FEB-2013</td>\n",
       "      <td>...</td>\n",
       "      <td>NaN</td>\n",
       "      <td>Defaulted</td>\n",
       "      <td>Mossack Fonseca</td>\n",
       "      <td>25221</td>\n",
       "      <td>HKG</td>\n",
       "      <td>Hong Kong</td>\n",
       "      <td>NaN</td>\n",
       "      <td>The Panama Papers data is current through 2015</td>\n",
       "      <td>10000001</td>\n",
       "      <td>Panama Papers</td>\n",
       "    </tr>\n",
       "    <tr>\n",
       "      <th>1</th>\n",
       "      <td>NINGBO SUNRISE ENTERPRISES UNITED CO., LTD.</td>\n",
       "      <td>NINGBO SUNRISE ENTERPRISES UNITED CO., LTD.</td>\n",
       "      <td>NaN</td>\n",
       "      <td>SAM</td>\n",
       "      <td>Samoa</td>\n",
       "      <td>NaN</td>\n",
       "      <td>ORION HOUSE SERVICES (HK) LIMITED ROOM 1401; 1...</td>\n",
       "      <td>1001263.0</td>\n",
       "      <td>27-MAR-2006</td>\n",
       "      <td>27-FEB-2014</td>\n",
       "      <td>...</td>\n",
       "      <td>NaN</td>\n",
       "      <td>Defaulted</td>\n",
       "      <td>Mossack Fonseca</td>\n",
       "      <td>25249</td>\n",
       "      <td>HKG</td>\n",
       "      <td>Hong Kong</td>\n",
       "      <td>NaN</td>\n",
       "      <td>The Panama Papers data is current through 2015</td>\n",
       "      <td>10000002</td>\n",
       "      <td>Panama Papers</td>\n",
       "    </tr>\n",
       "    <tr>\n",
       "      <th>2</th>\n",
       "      <td>HOTFOCUS CO., LTD.</td>\n",
       "      <td>HOTFOCUS CO., LTD.</td>\n",
       "      <td>NaN</td>\n",
       "      <td>SAM</td>\n",
       "      <td>Samoa</td>\n",
       "      <td>NaN</td>\n",
       "      <td>ORION HOUSE SERVICES (HK) LIMITED ROOM 1401; 1...</td>\n",
       "      <td>1000896.0</td>\n",
       "      <td>10-JAN-2006</td>\n",
       "      <td>15-FEB-2012</td>\n",
       "      <td>...</td>\n",
       "      <td>NaN</td>\n",
       "      <td>Defaulted</td>\n",
       "      <td>Mossack Fonseca</td>\n",
       "      <td>24138</td>\n",
       "      <td>HKG</td>\n",
       "      <td>Hong Kong</td>\n",
       "      <td>NaN</td>\n",
       "      <td>The Panama Papers data is current through 2015</td>\n",
       "      <td>10000003</td>\n",
       "      <td>Panama Papers</td>\n",
       "    </tr>\n",
       "    <tr>\n",
       "      <th>3</th>\n",
       "      <td>SKY-BLUE GIFTS &amp; TOYS CO., LTD.</td>\n",
       "      <td>SKY-BLUE GIFTS &amp; TOYS CO., LTD.</td>\n",
       "      <td>NaN</td>\n",
       "      <td>SAM</td>\n",
       "      <td>Samoa</td>\n",
       "      <td>NaN</td>\n",
       "      <td>ORION HOUSE SERVICES (HK) LIMITED ROOM 1401; 1...</td>\n",
       "      <td>1000914.0</td>\n",
       "      <td>06-JAN-2006</td>\n",
       "      <td>16-FEB-2009</td>\n",
       "      <td>...</td>\n",
       "      <td>NaN</td>\n",
       "      <td>Defaulted</td>\n",
       "      <td>Mossack Fonseca</td>\n",
       "      <td>24012</td>\n",
       "      <td>HKG</td>\n",
       "      <td>Hong Kong</td>\n",
       "      <td>NaN</td>\n",
       "      <td>The Panama Papers data is current through 2015</td>\n",
       "      <td>10000004</td>\n",
       "      <td>Panama Papers</td>\n",
       "    </tr>\n",
       "    <tr>\n",
       "      <th>4</th>\n",
       "      <td>FORTUNEMAKER INVESTMENTS CORPORATION</td>\n",
       "      <td>FORTUNEMAKER INVESTMENTS CORPORATION</td>\n",
       "      <td>NaN</td>\n",
       "      <td>SAM</td>\n",
       "      <td>Samoa</td>\n",
       "      <td>NaN</td>\n",
       "      <td>LOYAL PORT LIMITED 8/F; CRAWFORD TOWER 99 JERV...</td>\n",
       "      <td>1001266.0</td>\n",
       "      <td>19-APR-2006</td>\n",
       "      <td>15-MAY-2009</td>\n",
       "      <td>...</td>\n",
       "      <td>NaN</td>\n",
       "      <td>Changed agent</td>\n",
       "      <td>Mossack Fonseca</td>\n",
       "      <td>R25638</td>\n",
       "      <td>HKG</td>\n",
       "      <td>Hong Kong</td>\n",
       "      <td>NaN</td>\n",
       "      <td>The Panama Papers data is current through 2015</td>\n",
       "      <td>10000005</td>\n",
       "      <td>Panama Papers</td>\n",
       "    </tr>\n",
       "  </tbody>\n",
       "</table>\n",
       "<p>5 rows × 21 columns</p>\n",
       "</div>"
      ],
      "text/plain": [
       "                                          name  \\\n",
       "0     TIANSHENG INDUSTRY AND TRADING CO., LTD.   \n",
       "1  NINGBO SUNRISE ENTERPRISES UNITED CO., LTD.   \n",
       "2                           HOTFOCUS CO., LTD.   \n",
       "3              SKY-BLUE GIFTS & TOYS CO., LTD.   \n",
       "4         FORTUNEMAKER INVESTMENTS CORPORATION   \n",
       "\n",
       "                                 original_name former_name jurisdiction  \\\n",
       "0     TIANSHENG INDUSTRY AND TRADING CO., LTD.         NaN          SAM   \n",
       "1  NINGBO SUNRISE ENTERPRISES UNITED CO., LTD.         NaN          SAM   \n",
       "2                           HOTFOCUS CO., LTD.         NaN          SAM   \n",
       "3              SKY-BLUE GIFTS & TOYS CO., LTD.         NaN          SAM   \n",
       "4         FORTUNEMAKER INVESTMENTS CORPORATION         NaN          SAM   \n",
       "\n",
       "  jurisdiction_description company_type  \\\n",
       "0                    Samoa          NaN   \n",
       "1                    Samoa          NaN   \n",
       "2                    Samoa          NaN   \n",
       "3                    Samoa          NaN   \n",
       "4                    Samoa          NaN   \n",
       "\n",
       "                                             address  internal_id  \\\n",
       "0  ORION HOUSE SERVICES (HK) LIMITED ROOM 1401; 1...    1001256.0   \n",
       "1  ORION HOUSE SERVICES (HK) LIMITED ROOM 1401; 1...    1001263.0   \n",
       "2  ORION HOUSE SERVICES (HK) LIMITED ROOM 1401; 1...    1000896.0   \n",
       "3  ORION HOUSE SERVICES (HK) LIMITED ROOM 1401; 1...    1000914.0   \n",
       "4  LOYAL PORT LIMITED 8/F; CRAWFORD TOWER 99 JERV...    1001266.0   \n",
       "\n",
       "  incorporation_date inactivation_date      ...       dorm_date  \\\n",
       "0        23-MAR-2006       18-FEB-2013      ...             NaN   \n",
       "1        27-MAR-2006       27-FEB-2014      ...             NaN   \n",
       "2        10-JAN-2006       15-FEB-2012      ...             NaN   \n",
       "3        06-JAN-2006       16-FEB-2009      ...             NaN   \n",
       "4        19-APR-2006       15-MAY-2009      ...             NaN   \n",
       "\n",
       "          status service_provider  ibcRUC country_codes  countries note  \\\n",
       "0      Defaulted  Mossack Fonseca   25221           HKG  Hong Kong  NaN   \n",
       "1      Defaulted  Mossack Fonseca   25249           HKG  Hong Kong  NaN   \n",
       "2      Defaulted  Mossack Fonseca   24138           HKG  Hong Kong  NaN   \n",
       "3      Defaulted  Mossack Fonseca   24012           HKG  Hong Kong  NaN   \n",
       "4  Changed agent  Mossack Fonseca  R25638           HKG  Hong Kong  NaN   \n",
       "\n",
       "                                      valid_until   node_id       sourceID  \n",
       "0  The Panama Papers data is current through 2015  10000001  Panama Papers  \n",
       "1  The Panama Papers data is current through 2015  10000002  Panama Papers  \n",
       "2  The Panama Papers data is current through 2015  10000003  Panama Papers  \n",
       "3  The Panama Papers data is current through 2015  10000004  Panama Papers  \n",
       "4  The Panama Papers data is current through 2015  10000005  Panama Papers  \n",
       "\n",
       "[5 rows x 21 columns]"
      ]
     },
     "execution_count": 9,
     "metadata": {},
     "output_type": "execute_result"
    }
   ],
   "source": [
    "entities = pd.read_csv(data_url + \"Entities.csv\", low_memory=False)\n",
    "entities.head()"
   ]
  },
  {
   "cell_type": "code",
   "execution_count": 10,
   "metadata": {
    "collapsed": false
   },
   "outputs": [
    {
     "name": "stdout",
     "output_type": "stream",
     "text": [
      "<class 'pandas.core.frame.DataFrame'>\n",
      "RangeIndex: 495038 entries, 0 to 495037\n",
      "Data columns (total 21 columns):\n",
      "name                        495034 non-null object\n",
      "original_name               389522 non-null object\n",
      "former_name                 6726 non-null object\n",
      "jurisdiction                495038 non-null object\n",
      "jurisdiction_description    495038 non-null object\n",
      "company_type                103227 non-null object\n",
      "address                     299319 non-null object\n",
      "internal_id                 389522 non-null float64\n",
      "incorporation_date          485607 non-null object\n",
      "inactivation_date           144760 non-null object\n",
      "struck_off_date             272240 non-null object\n",
      "dorm_date                   20207 non-null object\n",
      "status                      310106 non-null object\n",
      "service_provider            319150 non-null object\n",
      "ibcRUC                      431263 non-null object\n",
      "country_codes               318360 non-null object\n",
      "countries                   318360 non-null object\n",
      "note                        8994 non-null object\n",
      "valid_until                 495038 non-null object\n",
      "node_id                     495038 non-null int64\n",
      "sourceID                    495038 non-null object\n",
      "dtypes: float64(1), int64(1), object(19)\n",
      "memory usage: 79.3+ MB\n"
     ]
    }
   ],
   "source": [
    "entities.info()"
   ]
  },
  {
   "cell_type": "code",
   "execution_count": 11,
   "metadata": {
    "collapsed": false
   },
   "outputs": [
    {
     "data": {
      "text/plain": [
       "array(['Panama Papers', 'Offshore Leaks', 'Bahamas Leaks'], dtype=object)"
      ]
     },
     "execution_count": 11,
     "metadata": {},
     "output_type": "execute_result"
    }
   ],
   "source": [
    "entities[\"sourceID\"].unique()"
   ]
  },
  {
   "cell_type": "code",
   "execution_count": 12,
   "metadata": {
    "collapsed": false
   },
   "outputs": [
    {
     "data": {
      "text/plain": [
       "array([nan, 'Standard International Company',\n",
       "       'BVI Sundry Entities (one off transactions)',\n",
       "       'Business Company Limited by Shares',\n",
       "       'Standard Company under IBC Act',\n",
       "       'The GRA group of Companies for express Co.', 'Sundry Account',\n",
       "       'BVI Trust', 'Domestic Company', 'Client Sundry Account',\n",
       "       'Mutual Fund Manager', 'Nominee Only Entity',\n",
       "       'Mutual Fund Administrator', 'Professional Mutual Fund',\n",
       "       'Partnership', 'Mutual Fund', 'Limited Liability Company',\n",
       "       'Holding Company', 'Singapore Trust', 'Cook Islands Trust',\n",
       "       'Private Company Limited By Shares', 'Collective Investment Scheme',\n",
       "       'Private Trust Company', 'Cook Islands Asset Protection Trust',\n",
       "       'Cook Islands Asset Protection Trust - 3520A', 'BVI Share Trust',\n",
       "       'Seminar / Workshop', 'Liquidator Licence', 'SHIP REGISTRATIONS',\n",
       "       'Turks', 'Trust', 'Hong Kong Trust', 'Audit Licence',\n",
       "       'Nevis - Limited Liability Company', 'Bahamas IBC',\n",
       "       'Belize International Business Company', 'Limited Partnership',\n",
       "       'Business Company Limited by Guarantee', 'UK Register',\n",
       "       'Nevis Company', 'Samoa',\n",
       "       'Busines Company Limited by Shares & Guarantee',\n",
       "       'The Forbes Group of companies for Express Co..', 'Panama - IBC',\n",
       "       'Hong Kong', 'Business Company Restricted Purposes',\n",
       "       'Mauritius - Hybrid', 'Seychelles', 'Antigua',\n",
       "       'Mauritius - International', 'Mail Forwarding Only',\n",
       "       'Mauritius - Offshore', 'CAP 285', 'Panama - Foundation',\n",
       "       'Standard - Redomiciled', 'Private Mutual Fund'], dtype=object)"
      ]
     },
     "execution_count": 12,
     "metadata": {},
     "output_type": "execute_result"
    }
   ],
   "source": [
    "entities[\"company_type\"].unique()"
   ]
  },
  {
   "cell_type": "code",
   "execution_count": 13,
   "metadata": {
    "collapsed": false
   },
   "outputs": [
    {
     "data": {
      "text/plain": [
       "array(['Mossack Fonseca', 'Portcullis Trustnet',\n",
       "       'Commonwealth Trust Limited', nan], dtype=object)"
      ]
     },
     "execution_count": 13,
     "metadata": {},
     "output_type": "execute_result"
    }
   ],
   "source": [
    "entities[\"service_provider\"].unique()"
   ]
  },
  {
   "cell_type": "code",
   "execution_count": 14,
   "metadata": {
    "collapsed": false
   },
   "outputs": [
    {
     "data": {
      "text/plain": [
       "array(['Defaulted', 'Changed agent', 'Active', 'Inactivated',\n",
       "       'Relocated in new jurisdiction', 'Dissolved shelf company',\n",
       "       'Dissolved', 'Bad debt account', 'Discontinued',\n",
       "       'Resigned as agent', 'Trash company', 'Shelf company',\n",
       "       'Shelf company not possible to sell', 'In transition',\n",
       "       'Change in administration pending', 'In liquidation', nan,\n",
       "       'Resigned as agent of shelf company',\n",
       "       'Struck / Defunct / Deregistered', 'In Liquidation',\n",
       "       'Company liquidated', 'Transferred Out', 'Shelf', 'Dead',\n",
       "       'Liquidated', 'Redomiciled',\n",
       "       'Not To Be Renewed / In Deregistration', 'Vesting', 'Inactive',\n",
       "       'In Formation', 'Un Registered', 'Transferred OUT',\n",
       "       'Liquidation in Progress', 'Discontinuance',\n",
       "       'Client Sundry Account', 'We resigned as registered agent',\n",
       "       'Sundry Account', 'Not Renewed by Client'], dtype=object)"
      ]
     },
     "execution_count": 14,
     "metadata": {},
     "output_type": "execute_result"
    }
   ],
   "source": [
    "entities[\"status\"].unique()"
   ]
  },
  {
   "cell_type": "code",
   "execution_count": 15,
   "metadata": {
    "collapsed": false
   },
   "outputs": [
    {
     "data": {
      "text/plain": [
       "Index(['name', 'original_name', 'former_name', 'jurisdiction',\n",
       "       'jurisdiction_description', 'company_type', 'address', 'internal_id',\n",
       "       'incorporation_date', 'inactivation_date', 'struck_off_date',\n",
       "       'dorm_date', 'status', 'service_provider', 'ibcRUC', 'country_codes',\n",
       "       'countries', 'note', 'valid_until', 'node_id', 'sourceID'],\n",
       "      dtype='object')"
      ]
     },
     "execution_count": 15,
     "metadata": {},
     "output_type": "execute_result"
    }
   ],
   "source": [
    "entities.columns"
   ]
  },
  {
   "cell_type": "markdown",
   "metadata": {},
   "source": [
    "### As we can see, most of the features in this dataset are categorical. Let's pick features what we think can be relevant in clustering entities. Use 'incorporation date' and ignore other dates. We can come back to them later. Also we can add two more features indicating the day of the week and month the company is incorporated."
   ]
  },
  {
   "cell_type": "code",
   "execution_count": 16,
   "metadata": {
    "collapsed": false
   },
   "outputs": [
    {
     "name": "stdout",
     "output_type": "stream",
     "text": [
      "['name', 'jurisdiction', 'company_type', 'incorporation_date', 'status', 'service_provider', 'country_codes', 'note', 'valid_until', 'sourceID']\n"
     ]
    }
   ],
   "source": [
    "features = ['name', 'jurisdiction', 'company_type','incorporation_date', 'status', 'service_provider', 'country_codes',\n",
    "       'note', 'valid_until', 'sourceID']\n",
    "print(features)"
   ]
  },
  {
   "cell_type": "code",
   "execution_count": 17,
   "metadata": {
    "collapsed": false
   },
   "outputs": [
    {
     "data": {
      "text/html": [
       "<div>\n",
       "<table border=\"1\" class=\"dataframe\">\n",
       "  <thead>\n",
       "    <tr style=\"text-align: right;\">\n",
       "      <th></th>\n",
       "      <th>name</th>\n",
       "      <th>jurisdiction</th>\n",
       "      <th>company_type</th>\n",
       "      <th>incorporation_date</th>\n",
       "      <th>status</th>\n",
       "      <th>service_provider</th>\n",
       "      <th>country_codes</th>\n",
       "      <th>note</th>\n",
       "      <th>valid_until</th>\n",
       "      <th>sourceID</th>\n",
       "      <th>incorporation_month</th>\n",
       "      <th>incorporation_dayofweek</th>\n",
       "    </tr>\n",
       "  </thead>\n",
       "  <tbody>\n",
       "    <tr>\n",
       "      <th>0</th>\n",
       "      <td>TIANSHENG INDUSTRY AND TRADING CO., LTD.</td>\n",
       "      <td>SAM</td>\n",
       "      <td>NaN</td>\n",
       "      <td>2006-03-23</td>\n",
       "      <td>Defaulted</td>\n",
       "      <td>Mossack Fonseca</td>\n",
       "      <td>HKG</td>\n",
       "      <td>NaN</td>\n",
       "      <td>The Panama Papers data is current through 2015</td>\n",
       "      <td>Panama Papers</td>\n",
       "      <td>3.0</td>\n",
       "      <td>3.0</td>\n",
       "    </tr>\n",
       "    <tr>\n",
       "      <th>1</th>\n",
       "      <td>NINGBO SUNRISE ENTERPRISES UNITED CO., LTD.</td>\n",
       "      <td>SAM</td>\n",
       "      <td>NaN</td>\n",
       "      <td>2006-03-27</td>\n",
       "      <td>Defaulted</td>\n",
       "      <td>Mossack Fonseca</td>\n",
       "      <td>HKG</td>\n",
       "      <td>NaN</td>\n",
       "      <td>The Panama Papers data is current through 2015</td>\n",
       "      <td>Panama Papers</td>\n",
       "      <td>3.0</td>\n",
       "      <td>0.0</td>\n",
       "    </tr>\n",
       "    <tr>\n",
       "      <th>2</th>\n",
       "      <td>HOTFOCUS CO., LTD.</td>\n",
       "      <td>SAM</td>\n",
       "      <td>NaN</td>\n",
       "      <td>2006-01-10</td>\n",
       "      <td>Defaulted</td>\n",
       "      <td>Mossack Fonseca</td>\n",
       "      <td>HKG</td>\n",
       "      <td>NaN</td>\n",
       "      <td>The Panama Papers data is current through 2015</td>\n",
       "      <td>Panama Papers</td>\n",
       "      <td>1.0</td>\n",
       "      <td>1.0</td>\n",
       "    </tr>\n",
       "    <tr>\n",
       "      <th>3</th>\n",
       "      <td>SKY-BLUE GIFTS &amp; TOYS CO., LTD.</td>\n",
       "      <td>SAM</td>\n",
       "      <td>NaN</td>\n",
       "      <td>2006-01-06</td>\n",
       "      <td>Defaulted</td>\n",
       "      <td>Mossack Fonseca</td>\n",
       "      <td>HKG</td>\n",
       "      <td>NaN</td>\n",
       "      <td>The Panama Papers data is current through 2015</td>\n",
       "      <td>Panama Papers</td>\n",
       "      <td>1.0</td>\n",
       "      <td>4.0</td>\n",
       "    </tr>\n",
       "    <tr>\n",
       "      <th>4</th>\n",
       "      <td>FORTUNEMAKER INVESTMENTS CORPORATION</td>\n",
       "      <td>SAM</td>\n",
       "      <td>NaN</td>\n",
       "      <td>2006-04-19</td>\n",
       "      <td>Changed agent</td>\n",
       "      <td>Mossack Fonseca</td>\n",
       "      <td>HKG</td>\n",
       "      <td>NaN</td>\n",
       "      <td>The Panama Papers data is current through 2015</td>\n",
       "      <td>Panama Papers</td>\n",
       "      <td>4.0</td>\n",
       "      <td>2.0</td>\n",
       "    </tr>\n",
       "  </tbody>\n",
       "</table>\n",
       "</div>"
      ],
      "text/plain": [
       "                                          name jurisdiction company_type  \\\n",
       "0     TIANSHENG INDUSTRY AND TRADING CO., LTD.          SAM          NaN   \n",
       "1  NINGBO SUNRISE ENTERPRISES UNITED CO., LTD.          SAM          NaN   \n",
       "2                           HOTFOCUS CO., LTD.          SAM          NaN   \n",
       "3              SKY-BLUE GIFTS & TOYS CO., LTD.          SAM          NaN   \n",
       "4         FORTUNEMAKER INVESTMENTS CORPORATION          SAM          NaN   \n",
       "\n",
       "  incorporation_date         status service_provider country_codes note  \\\n",
       "0         2006-03-23      Defaulted  Mossack Fonseca           HKG  NaN   \n",
       "1         2006-03-27      Defaulted  Mossack Fonseca           HKG  NaN   \n",
       "2         2006-01-10      Defaulted  Mossack Fonseca           HKG  NaN   \n",
       "3         2006-01-06      Defaulted  Mossack Fonseca           HKG  NaN   \n",
       "4         2006-04-19  Changed agent  Mossack Fonseca           HKG  NaN   \n",
       "\n",
       "                                      valid_until       sourceID  \\\n",
       "0  The Panama Papers data is current through 2015  Panama Papers   \n",
       "1  The Panama Papers data is current through 2015  Panama Papers   \n",
       "2  The Panama Papers data is current through 2015  Panama Papers   \n",
       "3  The Panama Papers data is current through 2015  Panama Papers   \n",
       "4  The Panama Papers data is current through 2015  Panama Papers   \n",
       "\n",
       "   incorporation_month  incorporation_dayofweek  \n",
       "0                  3.0                      3.0  \n",
       "1                  3.0                      0.0  \n",
       "2                  1.0                      1.0  \n",
       "3                  1.0                      4.0  \n",
       "4                  4.0                      2.0  "
      ]
     },
     "execution_count": 17,
     "metadata": {},
     "output_type": "execute_result"
    }
   ],
   "source": [
    "entities = entities[features]\n",
    "\n",
    "entities['incorporation_date'] = pd.to_datetime(entities['incorporation_date'])\n",
    "entities['incorporation_month'] = entities['incorporation_date'].dt.month\n",
    "entities['incorporation_dayofweek'] = entities['incorporation_date'].dt.dayofweek\n",
    "\n",
    "#remove instances where name or incorporation date is not available.\n",
    "entities.dropna(axis=0, subset=['name', 'incorporation_date'], inplace=True)\n",
    "entities.head()"
   ]
  },
  {
   "cell_type": "code",
   "execution_count": 18,
   "metadata": {
    "collapsed": false
   },
   "outputs": [
    {
     "data": {
      "text/html": [
       "<div>\n",
       "<table border=\"1\" class=\"dataframe\">\n",
       "  <thead>\n",
       "    <tr style=\"text-align: right;\">\n",
       "      <th></th>\n",
       "      <th>jurisdiction</th>\n",
       "      <th>company_type</th>\n",
       "      <th>status</th>\n",
       "      <th>service_provider</th>\n",
       "      <th>country_codes</th>\n",
       "      <th>note</th>\n",
       "      <th>valid_until</th>\n",
       "      <th>sourceID</th>\n",
       "      <th>incorporation_month</th>\n",
       "      <th>incorporation_dayofweek</th>\n",
       "    </tr>\n",
       "  </thead>\n",
       "  <tbody>\n",
       "    <tr>\n",
       "      <th>0</th>\n",
       "      <td>SAM</td>\n",
       "      <td>NaN</td>\n",
       "      <td>Defaulted</td>\n",
       "      <td>Mossack Fonseca</td>\n",
       "      <td>HKG</td>\n",
       "      <td>NaN</td>\n",
       "      <td>The Panama Papers data is current through 2015</td>\n",
       "      <td>Panama Papers</td>\n",
       "      <td>3.0</td>\n",
       "      <td>3.0</td>\n",
       "    </tr>\n",
       "    <tr>\n",
       "      <th>1</th>\n",
       "      <td>SAM</td>\n",
       "      <td>NaN</td>\n",
       "      <td>Defaulted</td>\n",
       "      <td>Mossack Fonseca</td>\n",
       "      <td>HKG</td>\n",
       "      <td>NaN</td>\n",
       "      <td>The Panama Papers data is current through 2015</td>\n",
       "      <td>Panama Papers</td>\n",
       "      <td>3.0</td>\n",
       "      <td>0.0</td>\n",
       "    </tr>\n",
       "    <tr>\n",
       "      <th>2</th>\n",
       "      <td>SAM</td>\n",
       "      <td>NaN</td>\n",
       "      <td>Defaulted</td>\n",
       "      <td>Mossack Fonseca</td>\n",
       "      <td>HKG</td>\n",
       "      <td>NaN</td>\n",
       "      <td>The Panama Papers data is current through 2015</td>\n",
       "      <td>Panama Papers</td>\n",
       "      <td>1.0</td>\n",
       "      <td>1.0</td>\n",
       "    </tr>\n",
       "    <tr>\n",
       "      <th>3</th>\n",
       "      <td>SAM</td>\n",
       "      <td>NaN</td>\n",
       "      <td>Defaulted</td>\n",
       "      <td>Mossack Fonseca</td>\n",
       "      <td>HKG</td>\n",
       "      <td>NaN</td>\n",
       "      <td>The Panama Papers data is current through 2015</td>\n",
       "      <td>Panama Papers</td>\n",
       "      <td>1.0</td>\n",
       "      <td>4.0</td>\n",
       "    </tr>\n",
       "    <tr>\n",
       "      <th>4</th>\n",
       "      <td>SAM</td>\n",
       "      <td>NaN</td>\n",
       "      <td>Changed agent</td>\n",
       "      <td>Mossack Fonseca</td>\n",
       "      <td>HKG</td>\n",
       "      <td>NaN</td>\n",
       "      <td>The Panama Papers data is current through 2015</td>\n",
       "      <td>Panama Papers</td>\n",
       "      <td>4.0</td>\n",
       "      <td>2.0</td>\n",
       "    </tr>\n",
       "  </tbody>\n",
       "</table>\n",
       "</div>"
      ],
      "text/plain": [
       "  jurisdiction company_type         status service_provider country_codes  \\\n",
       "0          SAM          NaN      Defaulted  Mossack Fonseca           HKG   \n",
       "1          SAM          NaN      Defaulted  Mossack Fonseca           HKG   \n",
       "2          SAM          NaN      Defaulted  Mossack Fonseca           HKG   \n",
       "3          SAM          NaN      Defaulted  Mossack Fonseca           HKG   \n",
       "4          SAM          NaN  Changed agent  Mossack Fonseca           HKG   \n",
       "\n",
       "  note                                     valid_until       sourceID  \\\n",
       "0  NaN  The Panama Papers data is current through 2015  Panama Papers   \n",
       "1  NaN  The Panama Papers data is current through 2015  Panama Papers   \n",
       "2  NaN  The Panama Papers data is current through 2015  Panama Papers   \n",
       "3  NaN  The Panama Papers data is current through 2015  Panama Papers   \n",
       "4  NaN  The Panama Papers data is current through 2015  Panama Papers   \n",
       "\n",
       "   incorporation_month  incorporation_dayofweek  \n",
       "0                  3.0                      3.0  \n",
       "1                  3.0                      0.0  \n",
       "2                  1.0                      1.0  \n",
       "3                  1.0                      4.0  \n",
       "4                  4.0                      2.0  "
      ]
     },
     "execution_count": 18,
     "metadata": {},
     "output_type": "execute_result"
    }
   ],
   "source": [
    "X = entities.drop(['name', 'incorporation_date'], axis=1)\n",
    "X.head()"
   ]
  }
 ],
 "metadata": {
  "kernelspec": {
   "display_name": "Python [Root]",
   "language": "python",
   "name": "Python [Root]"
  },
  "language_info": {
   "codemirror_mode": {
    "name": "ipython",
    "version": 3
   },
   "file_extension": ".py",
   "mimetype": "text/x-python",
   "name": "python",
   "nbconvert_exporter": "python",
   "pygments_lexer": "ipython3",
   "version": "3.5.2"
  }
 },
 "nbformat": 4,
 "nbformat_minor": 2
}
