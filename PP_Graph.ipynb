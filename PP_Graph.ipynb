{
 "cells": [
  {
   "cell_type": "code",
   "execution_count": 22,
   "metadata": {
    "collapsed": false
   },
   "outputs": [],
   "source": [
    "import pandas as pd\n",
    "import numpy as np\n",
    "import matplotlib.pyplot as plt\n",
    "import seaborn as sb\n",
    "import networkx as nx"
   ]
  },
  {
   "cell_type": "code",
   "execution_count": 12,
   "metadata": {
    "collapsed": true
   },
   "outputs": [],
   "source": [
    "%matplotlib notebook"
   ]
  },
  {
   "cell_type": "code",
   "execution_count": 6,
   "metadata": {
    "collapsed": false
   },
   "outputs": [],
   "source": [
    "addresses = pd.read_csv(\"C:\\data\\Addresses.csv\", low_memory=False)\n",
    "\n",
    "entities = pd.read_csv(\"C:\\data\\Entities.csv\", low_memory=False)\n",
    "\n",
    "inter = pd.read_csv(\"C:\\data\\Intermediaries.csv\", low_memory=False)\n",
    "\n",
    "officers = pd.read_csv(\"C:\\data\\Officers.csv\", low_memory=False)\n",
    "\n",
    "edges = pd.read_csv(\"C:\\data\\edges.csv\", low_memory=False)"
   ]
  },
  {
   "cell_type": "code",
   "execution_count": 10,
   "metadata": {
    "collapsed": true
   },
   "outputs": [],
   "source": [
    "G = nx.DiGraph()\n",
    "\n",
    "for n,row in addresses.iterrows():\n",
    "    G.add_node(row.node_id, node_type=\"address\", details=row.to_dict())\n",
    "    \n",
    "for n,row in entities.iterrows():\n",
    "    G.add_node(row.node_id, node_type=\"entities\", details=row.to_dict())\n",
    "    \n",
    "for n,row in inter.iterrows():\n",
    "    G.add_node(row.node_id, node_type=\"intermediaries\", details=row.to_dict())\n",
    "    \n",
    "for n,row in officers.iterrows():\n",
    "    G.add_node(row.node_id, node_type=\"officers\", details=row.to_dict())\n",
    "    \n",
    "for n,row in edges.iterrows():\n",
    "    G.add_edge(row.node_1, row.node_2, rel_type=row.rel_type, details={})"
   ]
  },
  {
   "cell_type": "code",
   "execution_count": 11,
   "metadata": {
    "collapsed": true
   },
   "outputs": [],
   "source": [
    "nx.write_adjlist(G,\"pp_graph.adjlist\")"
   ]
  },
  {
   "cell_type": "code",
   "execution_count": 7,
   "metadata": {
    "collapsed": true
   },
   "outputs": [],
   "source": [
    "G = nx.read_adjlist(\"pp_graph.adjlist\")"
   ]
  },
  {
   "cell_type": "code",
   "execution_count": 8,
   "metadata": {
    "collapsed": false
   },
   "outputs": [
    {
     "name": "stdout",
     "output_type": "stream",
     "text": [
      "1040535\n",
      "1458922\n"
     ]
    }
   ],
   "source": [
    "print(G.number_of_nodes())\n",
    "print(G.number_of_edges())\n"
   ]
  },
  {
   "cell_type": "code",
   "execution_count": 17,
   "metadata": {
    "collapsed": false
   },
   "outputs": [
    {
     "name": "stdout",
     "output_type": "stream",
     "text": [
      "Name: \n",
      "Type: Graph\n",
      "Number of nodes: 1040535\n",
      "Number of edges: 1458922\n",
      "Average degree:   2.8042\n"
     ]
    }
   ],
   "source": [
    "print (nx.info(G))"
   ]
  },
  {
   "cell_type": "code",
   "execution_count": 23,
   "metadata": {
    "collapsed": false
   },
   "outputs": [],
   "source": [
    "import os\n",
    "import random\n",
    "from operator import itemgetter\n",
    "import matplotlib as mpl\n",
    "mpl.style.use(\"ggplot\")"
   ]
  },
  {
   "cell_type": "code",
   "execution_count": null,
   "metadata": {
    "collapsed": false
   },
   "outputs": [],
   "source": [
    "# Accessing the highest degree node\n",
    "center, degree = sorted(G.degree().items(), key=itemgetter(1), reverse=True)[0]\n",
    "\n",
    "# A special type of subgraph\n",
    "ego = nx.ego_graph(G, center)\n",
    "\n",
    "pos = nx.spring_layout(G)\n",
    "nx.draw(G, pos, node_color='#0080C9', edge_color='#cccccc', node_size=50)\n",
    "nx.draw_networkx_nodes(G, pos, nodelist=[center], node_size=100, node_color=\"r\")\n",
    "plt.show()"
   ]
  },
  {
   "cell_type": "code",
   "execution_count": 18,
   "metadata": {
    "collapsed": true
   },
   "outputs": [],
   "source": [
    "subgraphs = [g for g in nx.connected_component_subgraphs(G.to_undirected())]"
   ]
  },
  {
   "cell_type": "code",
   "execution_count": 19,
   "metadata": {
    "collapsed": false
   },
   "outputs": [
    {
     "name": "stdout",
     "output_type": "stream",
     "text": [
      "[942172, 1599, 1295, 746, 644, 597, 561, 409, 406, 387, 378, 373, 366, 363, 357, 354, 335, 326, 319, 319, 314, 305, 288, 284, 279, 270, 268, 260, 255, 252, 235, 230, 230, 221, 219, 218, 218, 209, 206, 203, 201, 200, 200, 200, 197, 197, 196, 195, 195, 188, 184, 181, 175, 175, 175, 173, 170, 166, 163, 163, 162, 156, 156, 155, 153, 153, 152, 152, 151, 150, 143, 143, 143, 143, 142, 140, 139, 139, 139, 139, 139, 138, 138, 136, 135, 134, 134, 133, 132, 127, 126, 126, 126, 126, 124, 122, 120, 119, 119, 117]\n"
     ]
    }
   ],
   "source": [
    "subgraphs = sorted(subgraphs, key=lambda x: x.number_of_nodes(), reverse=True)\n",
    "print([s.number_of_nodes() for s in subgraphs[:100]])"
   ]
  },
  {
   "cell_type": "code",
   "execution_count": 25,
   "metadata": {
    "collapsed": false,
    "scrolled": true
   },
   "outputs": [
    {
     "ename": "NameError",
     "evalue": "name 'plot_graph' is not defined",
     "output_type": "error",
     "traceback": [
      "\u001b[0;31m---------------------------------------------------------------------------\u001b[0m",
      "\u001b[0;31mNameError\u001b[0m                                 Traceback (most recent call last)",
      "\u001b[0;32m<ipython-input-25-1367abf915d3>\u001b[0m in \u001b[0;36m<module>\u001b[0;34m()\u001b[0m\n\u001b[0;32m----> 1\u001b[0;31m \u001b[0mplot_graph\u001b[0m\u001b[1;33m(\u001b[0m\u001b[0msubgraphs\u001b[0m\u001b[1;33m[\u001b[0m\u001b[1;36m156\u001b[0m\u001b[1;33m]\u001b[0m\u001b[1;33m,\u001b[0m \u001b[0mfigsize\u001b[0m\u001b[1;33m=\u001b[0m\u001b[1;33m(\u001b[0m\u001b[1;36m8\u001b[0m\u001b[1;33m,\u001b[0m\u001b[1;36m8\u001b[0m\u001b[1;33m)\u001b[0m\u001b[1;33m)\u001b[0m\u001b[1;33m\u001b[0m\u001b[0m\n\u001b[0m",
      "\u001b[0;31mNameError\u001b[0m: name 'plot_graph' is not defined"
     ]
    }
   ],
   "source": [
    "plot_graph(subgraphs[156], figsize=(8,8))"
   ]
  },
  {
   "cell_type": "code",
   "execution_count": null,
   "metadata": {
    "collapsed": true
   },
   "outputs": [],
   "source": []
  }
 ],
 "metadata": {
  "kernelspec": {
   "display_name": "Python 3",
   "language": "python",
   "name": "python3"
  },
  "language_info": {
   "codemirror_mode": {
    "name": "ipython",
    "version": 3
   },
   "file_extension": ".py",
   "mimetype": "text/x-python",
   "name": "python",
   "nbconvert_exporter": "python",
   "pygments_lexer": "ipython3",
   "version": "3.6.0"
  }
 },
 "nbformat": 4,
 "nbformat_minor": 2
}
